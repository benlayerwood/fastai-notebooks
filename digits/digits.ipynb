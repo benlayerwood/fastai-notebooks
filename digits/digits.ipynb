{
 "cells": [
  {
   "cell_type": "markdown",
   "id": "cfc50a19-8d5f-4e94-bf6f-0e1e19d25a79",
   "metadata": {},
   "source": [
    "# MNIST Digits Classifier"
   ]
  },
  {
   "cell_type": "code",
   "execution_count": 1,
   "id": "90b33f13-0998-43c7-a4be-6aa957b8ba5d",
   "metadata": {
    "editable": true,
    "slideshow": {
     "slide_type": ""
    },
    "tags": []
   },
   "outputs": [],
   "source": [
    "### hide\n",
    "from fastai.vision.all import *\n",
    "\n",
    "matplotlib.rc('image', cmap='Greys')"
   ]
  },
  {
   "cell_type": "markdown",
   "id": "f2fd5e3e-3092-4f8b-a489-8ef80bf430a9",
   "metadata": {},
   "source": [
    "Hide Base Path"
   ]
  },
  {
   "cell_type": "code",
   "execution_count": 2,
   "id": "0ab8455f-66b2-4cdf-b70b-90d18498d1cb",
   "metadata": {},
   "outputs": [],
   "source": [
    "path = untar_data(URLs.MNIST)"
   ]
  },
  {
   "cell_type": "code",
   "execution_count": 3,
   "id": "4c2811af-0153-4768-864c-fa5e15e5515d",
   "metadata": {},
   "outputs": [],
   "source": [
    "#hide\n",
    "Path.BASE_PATH = path"
   ]
  },
  {
   "cell_type": "markdown",
   "id": "88a646b5-add4-4c49-986d-449cc7d6add2",
   "metadata": {},
   "source": [
    "Get MNIST Data"
   ]
  },
  {
   "cell_type": "code",
   "execution_count": 4,
   "id": "0c857408-152d-4958-9e5f-f3ca08db9f5d",
   "metadata": {
    "editable": true,
    "slideshow": {
     "slide_type": ""
    },
    "tags": []
   },
   "outputs": [
    {
     "data": {
      "text/plain": [
       "(#10) [Path('training/2'),Path('training/7'),Path('training/5'),Path('training/3'),Path('training/8'),Path('training/6'),Path('training/0'),Path('training/1'),Path('training/4'),Path('training/9')]"
      ]
     },
     "execution_count": 4,
     "metadata": {},
     "output_type": "execute_result"
    }
   ],
   "source": [
    "train_path = path/'training'\n",
    "train_path.ls()"
   ]
  },
  {
   "cell_type": "code",
   "execution_count": 5,
   "id": "4c14d9a2-abb7-46ff-ae38-df260ac87054",
   "metadata": {},
   "outputs": [
    {
     "name": "stdout",
     "output_type": "stream",
     "text": [
      "[Path('training/2/10009.png'), Path('training/2/10016.png')]\n",
      "[Path('training/5/0.png'), Path('training/5/100.png')]\n"
     ]
    }
   ],
   "source": [
    "twos = (train_path/'2').ls().sorted()\n",
    "fives = (train_path/'5').ls().sorted()\n",
    "\n",
    "print(twos[:2])\n",
    "print(fives[:2])"
   ]
  },
  {
   "cell_type": "markdown",
   "id": "06cba244-55d3-42a6-b87b-58f020076f42",
   "metadata": {},
   "source": [
    "Show Example Image"
   ]
  },
  {
   "cell_type": "code",
   "execution_count": 6,
   "id": "4ed05028-d06d-40d8-9b84-bb9383df5916",
   "metadata": {},
   "outputs": [
    {
     "data": {
      "image/jpeg": "[encoded data removed]",
      "image/png": "[encoded data removed]",
      "text/plain": [
       "<PIL.PngImagePlugin.PngImageFile image mode=L size=28x28>"
      ]
     },
     "execution_count": 6,
     "metadata": {},
     "output_type": "execute_result"
    }
   ],
   "source": [
    "Image.open(twos[0])\n",
    "#Image.open(fives[1])"
   ]
  },
  {
   "cell_type": "code",
   "execution_count": 7,
   "id": "44a5a712-9d62-46bb-972b-848da9d86d02",
   "metadata": {},
   "outputs": [
    {
     "data": {
      "text/html": [
       "<style type=\"text/css\">\n",
       "#T_84868_row0_col0, #T_84868_row0_col1, #T_84868_row0_col2, #T_84868_row0_col3, #T_84868_row0_col4, #T_84868_row0_col5, #T_84868_row0_col6, #T_84868_row0_col7, #T_84868_row0_col8, #T_84868_row0_col9, #T_84868_row0_col10, #T_84868_row0_col11, #T_84868_row0_col12, #T_84868_row0_col13, #T_84868_row1_col0, #T_84868_row1_col1, #T_84868_row1_col2, #T_84868_row1_col3, #T_84868_row1_col4, #T_84868_row1_col11, #T_84868_row1_col12, #T_84868_row1_col13, #T_84868_row2_col0, #T_84868_row2_col1, #T_84868_row2_col2, #T_84868_row2_col12, #T_84868_row2_col13, #T_84868_row3_col0, #T_84868_row3_col1, #T_84868_row3_col13, #T_84868_row4_col0, #T_84868_row4_col1, #T_84868_row4_col8, #T_84868_row4_col13, #T_84868_row5_col0, #T_84868_row5_col1, #T_84868_row5_col2, #T_84868_row5_col6, #T_84868_row5_col7, #T_84868_row5_col8, #T_84868_row5_col13, #T_84868_row6_col0, #T_84868_row6_col1, #T_84868_row6_col2, #T_84868_row6_col3, #T_84868_row6_col4, #T_84868_row6_col5, #T_84868_row6_col6, #T_84868_row6_col7, #T_84868_row6_col8, #T_84868_row6_col13, #T_84868_row7_col0, #T_84868_row7_col1, #T_84868_row7_col2, #T_84868_row7_col3, #T_84868_row7_col4, #T_84868_row7_col5, #T_84868_row7_col6, #T_84868_row7_col7, #T_84868_row7_col8, #T_84868_row7_col12, #T_84868_row7_col13, #T_84868_row8_col0, #T_84868_row8_col1, #T_84868_row8_col2, #T_84868_row8_col3, #T_84868_row8_col4, #T_84868_row8_col5, #T_84868_row8_col6, #T_84868_row8_col7, #T_84868_row8_col12, #T_84868_row8_col13, #T_84868_row9_col0, #T_84868_row9_col1, #T_84868_row9_col2, #T_84868_row9_col3, #T_84868_row9_col4, #T_84868_row9_col5, #T_84868_row9_col6, #T_84868_row9_col7, #T_84868_row9_col11, #T_84868_row9_col12, #T_84868_row9_col13, #T_84868_row10_col0, #T_84868_row10_col1, #T_84868_row10_col2, #T_84868_row10_col3, #T_84868_row10_col4, #T_84868_row10_col5, #T_84868_row10_col11, #T_84868_row10_col12, #T_84868_row10_col13, #T_84868_row11_col0, #T_84868_row11_col1, #T_84868_row11_col2, #T_84868_row11_col3, #T_84868_row11_col4, #T_84868_row11_col5, #T_84868_row11_col10, #T_84868_row11_col11, #T_84868_row11_col12, #T_84868_row11_col13, #T_84868_row12_col0, #T_84868_row12_col1, #T_84868_row12_col2, #T_84868_row12_col10, #T_84868_row12_col11, #T_84868_row12_col12, #T_84868_row12_col13, #T_84868_row13_col9, #T_84868_row13_col10, #T_84868_row13_col11, #T_84868_row13_col12, #T_84868_row13_col13, #T_84868_row14_col11, #T_84868_row14_col12, #T_84868_row14_col13, #T_84868_row16_col6, #T_84868_row16_col7, #T_84868_row16_col8 {\n",
       "  font-size: 6pt;\n",
       "  background-color: #ffffff;\n",
       "  color: #000000;\n",
       "}\n",
       "#T_84868_row1_col5, #T_84868_row1_col6, #T_84868_row2_col11, #T_84868_row3_col2, #T_84868_row3_col8, #T_84868_row4_col2, #T_84868_row5_col4, #T_84868_row5_col9, #T_84868_row6_col9, #T_84868_row12_col4, #T_84868_row13_col1, #T_84868_row15_col13 {\n",
       "  font-size: 6pt;\n",
       "  background-color: #959595;\n",
       "  color: #f1f1f1;\n",
       "}\n",
       "#T_84868_row1_col7, #T_84868_row2_col3, #T_84868_row3_col9, #T_84868_row4_col6, #T_84868_row8_col8, #T_84868_row8_col11, #T_84868_row10_col7, #T_84868_row10_col10, #T_84868_row11_col6, #T_84868_row14_col9, #T_84868_row15_col6, #T_84868_row15_col7, #T_84868_row16_col9 {\n",
       "  font-size: 6pt;\n",
       "  background-color: #525252;\n",
       "  color: #f1f1f1;\n",
       "}\n",
       "#T_84868_row1_col8, #T_84868_row1_col9, #T_84868_row1_col10, #T_84868_row2_col4, #T_84868_row2_col5, #T_84868_row2_col6, #T_84868_row2_col7, #T_84868_row2_col8, #T_84868_row2_col9, #T_84868_row2_col10, #T_84868_row3_col3, #T_84868_row3_col4, #T_84868_row3_col5, #T_84868_row3_col6, #T_84868_row3_col7, #T_84868_row3_col10, #T_84868_row3_col11, #T_84868_row4_col3, #T_84868_row4_col4, #T_84868_row4_col5, #T_84868_row4_col10, #T_84868_row4_col11, #T_84868_row5_col10, #T_84868_row5_col11, #T_84868_row6_col10, #T_84868_row6_col11, #T_84868_row7_col9, #T_84868_row7_col10, #T_84868_row7_col11, #T_84868_row8_col9, #T_84868_row8_col10, #T_84868_row9_col8, #T_84868_row9_col9, #T_84868_row9_col10, #T_84868_row10_col8, #T_84868_row10_col9, #T_84868_row11_col7, #T_84868_row11_col8, #T_84868_row11_col9, #T_84868_row12_col5, #T_84868_row12_col6, #T_84868_row12_col7, #T_84868_row12_col8, #T_84868_row13_col2, #T_84868_row13_col3, #T_84868_row13_col4, #T_84868_row13_col5, #T_84868_row13_col6, #T_84868_row13_col7, #T_84868_row13_col8, #T_84868_row14_col0, #T_84868_row14_col1, #T_84868_row14_col2, #T_84868_row14_col3, #T_84868_row14_col4, #T_84868_row14_col5, #T_84868_row14_col6, #T_84868_row14_col7, #T_84868_row14_col8, #T_84868_row15_col0, #T_84868_row15_col1, #T_84868_row15_col2, #T_84868_row15_col3, #T_84868_row15_col4, #T_84868_row15_col5, #T_84868_row15_col8, #T_84868_row15_col9, #T_84868_row15_col10, #T_84868_row15_col11, #T_84868_row15_col12, #T_84868_row16_col0, #T_84868_row16_col1, #T_84868_row16_col2, #T_84868_row16_col3, #T_84868_row16_col4, #T_84868_row16_col10, #T_84868_row16_col11, #T_84868_row16_col12, #T_84868_row16_col13 {\n",
       "  font-size: 6pt;\n",
       "  background-color: #000000;\n",
       "  color: #f1f1f1;\n",
       "}\n",
       "#T_84868_row3_col12 {\n",
       "  font-size: 6pt;\n",
       "  background-color: #c6c6c6;\n",
       "  color: #000000;\n",
       "}\n",
       "#T_84868_row4_col7, #T_84868_row4_col9, #T_84868_row5_col3, #T_84868_row5_col5, #T_84868_row10_col6, #T_84868_row12_col3, #T_84868_row12_col9, #T_84868_row13_col0, #T_84868_row14_col10, #T_84868_row16_col5 {\n",
       "  font-size: 6pt;\n",
       "  background-color: #d9d9d9;\n",
       "  color: #000000;\n",
       "}\n",
       "#T_84868_row4_col12, #T_84868_row5_col12, #T_84868_row6_col12 {\n",
       "  font-size: 6pt;\n",
       "  background-color: #676767;\n",
       "  color: #f1f1f1;\n",
       "}\n",
       "</style>\n",
       "<table id=\"T_84868\">\n",
       "  <thead>\n",
       "    <tr>\n",
       "      <th class=\"blank level0\" >&nbsp;</th>\n",
       "      <th id=\"T_84868_level0_col0\" class=\"col_heading level0 col0\" >0</th>\n",
       "      <th id=\"T_84868_level0_col1\" class=\"col_heading level0 col1\" >1</th>\n",
       "      <th id=\"T_84868_level0_col2\" class=\"col_heading level0 col2\" >2</th>\n",
       "      <th id=\"T_84868_level0_col3\" class=\"col_heading level0 col3\" >3</th>\n",
       "      <th id=\"T_84868_level0_col4\" class=\"col_heading level0 col4\" >4</th>\n",
       "      <th id=\"T_84868_level0_col5\" class=\"col_heading level0 col5\" >5</th>\n",
       "      <th id=\"T_84868_level0_col6\" class=\"col_heading level0 col6\" >6</th>\n",
       "      <th id=\"T_84868_level0_col7\" class=\"col_heading level0 col7\" >7</th>\n",
       "      <th id=\"T_84868_level0_col8\" class=\"col_heading level0 col8\" >8</th>\n",
       "      <th id=\"T_84868_level0_col9\" class=\"col_heading level0 col9\" >9</th>\n",
       "      <th id=\"T_84868_level0_col10\" class=\"col_heading level0 col10\" >10</th>\n",
       "      <th id=\"T_84868_level0_col11\" class=\"col_heading level0 col11\" >11</th>\n",
       "      <th id=\"T_84868_level0_col12\" class=\"col_heading level0 col12\" >12</th>\n",
       "      <th id=\"T_84868_level0_col13\" class=\"col_heading level0 col13\" >13</th>\n",
       "    </tr>\n",
       "  </thead>\n",
       "  <tbody>\n",
       "    <tr>\n",
       "      <th id=\"T_84868_level0_row0\" class=\"row_heading level0 row0\" >0</th>\n",
       "      <td id=\"T_84868_row0_col0\" class=\"data row0 col0\" >0</td>\n",
       "      <td id=\"T_84868_row0_col1\" class=\"data row0 col1\" >0</td>\n",
       "      <td id=\"T_84868_row0_col2\" class=\"data row0 col2\" >0</td>\n",
       "      <td id=\"T_84868_row0_col3\" class=\"data row0 col3\" >0</td>\n",
       "      <td id=\"T_84868_row0_col4\" class=\"data row0 col4\" >0</td>\n",
       "      <td id=\"T_84868_row0_col5\" class=\"data row0 col5\" >0</td>\n",
       "      <td id=\"T_84868_row0_col6\" class=\"data row0 col6\" >0</td>\n",
       "      <td id=\"T_84868_row0_col7\" class=\"data row0 col7\" >0</td>\n",
       "      <td id=\"T_84868_row0_col8\" class=\"data row0 col8\" >0</td>\n",
       "      <td id=\"T_84868_row0_col9\" class=\"data row0 col9\" >0</td>\n",
       "      <td id=\"T_84868_row0_col10\" class=\"data row0 col10\" >0</td>\n",
       "      <td id=\"T_84868_row0_col11\" class=\"data row0 col11\" >0</td>\n",
       "      <td id=\"T_84868_row0_col12\" class=\"data row0 col12\" >0</td>\n",
       "      <td id=\"T_84868_row0_col13\" class=\"data row0 col13\" >0</td>\n",
       "    </tr>\n",
       "    <tr>\n",
       "      <th id=\"T_84868_level0_row1\" class=\"row_heading level0 row1\" >1</th>\n",
       "      <td id=\"T_84868_row1_col0\" class=\"data row1 col0\" >0</td>\n",
       "      <td id=\"T_84868_row1_col1\" class=\"data row1 col1\" >0</td>\n",
       "      <td id=\"T_84868_row1_col2\" class=\"data row1 col2\" >0</td>\n",
       "      <td id=\"T_84868_row1_col3\" class=\"data row1 col3\" >0</td>\n",
       "      <td id=\"T_84868_row1_col4\" class=\"data row1 col4\" >0</td>\n",
       "      <td id=\"T_84868_row1_col5\" class=\"data row1 col5\" >128</td>\n",
       "      <td id=\"T_84868_row1_col6\" class=\"data row1 col6\" >128</td>\n",
       "      <td id=\"T_84868_row1_col7\" class=\"data row1 col7\" >191</td>\n",
       "      <td id=\"T_84868_row1_col8\" class=\"data row1 col8\" >255</td>\n",
       "      <td id=\"T_84868_row1_col9\" class=\"data row1 col9\" >255</td>\n",
       "      <td id=\"T_84868_row1_col10\" class=\"data row1 col10\" >255</td>\n",
       "      <td id=\"T_84868_row1_col11\" class=\"data row1 col11\" >0</td>\n",
       "      <td id=\"T_84868_row1_col12\" class=\"data row1 col12\" >0</td>\n",
       "      <td id=\"T_84868_row1_col13\" class=\"data row1 col13\" >0</td>\n",
       "    </tr>\n",
       "    <tr>\n",
       "      <th id=\"T_84868_level0_row2\" class=\"row_heading level0 row2\" >2</th>\n",
       "      <td id=\"T_84868_row2_col0\" class=\"data row2 col0\" >0</td>\n",
       "      <td id=\"T_84868_row2_col1\" class=\"data row2 col1\" >0</td>\n",
       "      <td id=\"T_84868_row2_col2\" class=\"data row2 col2\" >0</td>\n",
       "      <td id=\"T_84868_row2_col3\" class=\"data row2 col3\" >191</td>\n",
       "      <td id=\"T_84868_row2_col4\" class=\"data row2 col4\" >255</td>\n",
       "      <td id=\"T_84868_row2_col5\" class=\"data row2 col5\" >255</td>\n",
       "      <td id=\"T_84868_row2_col6\" class=\"data row2 col6\" >255</td>\n",
       "      <td id=\"T_84868_row2_col7\" class=\"data row2 col7\" >255</td>\n",
       "      <td id=\"T_84868_row2_col8\" class=\"data row2 col8\" >255</td>\n",
       "      <td id=\"T_84868_row2_col9\" class=\"data row2 col9\" >255</td>\n",
       "      <td id=\"T_84868_row2_col10\" class=\"data row2 col10\" >255</td>\n",
       "      <td id=\"T_84868_row2_col11\" class=\"data row2 col11\" >128</td>\n",
       "      <td id=\"T_84868_row2_col12\" class=\"data row2 col12\" >0</td>\n",
       "      <td id=\"T_84868_row2_col13\" class=\"data row2 col13\" >0</td>\n",
       "    </tr>\n",
       "    <tr>\n",
       "      <th id=\"T_84868_level0_row3\" class=\"row_heading level0 row3\" >3</th>\n",
       "      <td id=\"T_84868_row3_col0\" class=\"data row3 col0\" >0</td>\n",
       "      <td id=\"T_84868_row3_col1\" class=\"data row3 col1\" >0</td>\n",
       "      <td id=\"T_84868_row3_col2\" class=\"data row3 col2\" >128</td>\n",
       "      <td id=\"T_84868_row3_col3\" class=\"data row3 col3\" >255</td>\n",
       "      <td id=\"T_84868_row3_col4\" class=\"data row3 col4\" >255</td>\n",
       "      <td id=\"T_84868_row3_col5\" class=\"data row3 col5\" >255</td>\n",
       "      <td id=\"T_84868_row3_col6\" class=\"data row3 col6\" >255</td>\n",
       "      <td id=\"T_84868_row3_col7\" class=\"data row3 col7\" >255</td>\n",
       "      <td id=\"T_84868_row3_col8\" class=\"data row3 col8\" >128</td>\n",
       "      <td id=\"T_84868_row3_col9\" class=\"data row3 col9\" >191</td>\n",
       "      <td id=\"T_84868_row3_col10\" class=\"data row3 col10\" >255</td>\n",
       "      <td id=\"T_84868_row3_col11\" class=\"data row3 col11\" >255</td>\n",
       "      <td id=\"T_84868_row3_col12\" class=\"data row3 col12\" >64</td>\n",
       "      <td id=\"T_84868_row3_col13\" class=\"data row3 col13\" >0</td>\n",
       "    </tr>\n",
       "    <tr>\n",
       "      <th id=\"T_84868_level0_row4\" class=\"row_heading level0 row4\" >4</th>\n",
       "      <td id=\"T_84868_row4_col0\" class=\"data row4 col0\" >0</td>\n",
       "      <td id=\"T_84868_row4_col1\" class=\"data row4 col1\" >0</td>\n",
       "      <td id=\"T_84868_row4_col2\" class=\"data row4 col2\" >128</td>\n",
       "      <td id=\"T_84868_row4_col3\" class=\"data row4 col3\" >255</td>\n",
       "      <td id=\"T_84868_row4_col4\" class=\"data row4 col4\" >255</td>\n",
       "      <td id=\"T_84868_row4_col5\" class=\"data row4 col5\" >255</td>\n",
       "      <td id=\"T_84868_row4_col6\" class=\"data row4 col6\" >191</td>\n",
       "      <td id=\"T_84868_row4_col7\" class=\"data row4 col7\" >64</td>\n",
       "      <td id=\"T_84868_row4_col8\" class=\"data row4 col8\" >0</td>\n",
       "      <td id=\"T_84868_row4_col9\" class=\"data row4 col9\" >64</td>\n",
       "      <td id=\"T_84868_row4_col10\" class=\"data row4 col10\" >255</td>\n",
       "      <td id=\"T_84868_row4_col11\" class=\"data row4 col11\" >255</td>\n",
       "      <td id=\"T_84868_row4_col12\" class=\"data row4 col12\" >128</td>\n",
       "      <td id=\"T_84868_row4_col13\" class=\"data row4 col13\" >0</td>\n",
       "    </tr>\n",
       "    <tr>\n",
       "      <th id=\"T_84868_level0_row5\" class=\"row_heading level0 row5\" >5</th>\n",
       "      <td id=\"T_84868_row5_col0\" class=\"data row5 col0\" >0</td>\n",
       "      <td id=\"T_84868_row5_col1\" class=\"data row5 col1\" >0</td>\n",
       "      <td id=\"T_84868_row5_col2\" class=\"data row5 col2\" >0</td>\n",
       "      <td id=\"T_84868_row5_col3\" class=\"data row5 col3\" >64</td>\n",
       "      <td id=\"T_84868_row5_col4\" class=\"data row5 col4\" >128</td>\n",
       "      <td id=\"T_84868_row5_col5\" class=\"data row5 col5\" >64</td>\n",
       "      <td id=\"T_84868_row5_col6\" class=\"data row5 col6\" >0</td>\n",
       "      <td id=\"T_84868_row5_col7\" class=\"data row5 col7\" >0</td>\n",
       "      <td id=\"T_84868_row5_col8\" class=\"data row5 col8\" >0</td>\n",
       "      <td id=\"T_84868_row5_col9\" class=\"data row5 col9\" >128</td>\n",
       "      <td id=\"T_84868_row5_col10\" class=\"data row5 col10\" >255</td>\n",
       "      <td id=\"T_84868_row5_col11\" class=\"data row5 col11\" >255</td>\n",
       "      <td id=\"T_84868_row5_col12\" class=\"data row5 col12\" >128</td>\n",
       "      <td id=\"T_84868_row5_col13\" class=\"data row5 col13\" >0</td>\n",
       "    </tr>\n",
       "    <tr>\n",
       "      <th id=\"T_84868_level0_row6\" class=\"row_heading level0 row6\" >6</th>\n",
       "      <td id=\"T_84868_row6_col0\" class=\"data row6 col0\" >0</td>\n",
       "      <td id=\"T_84868_row6_col1\" class=\"data row6 col1\" >0</td>\n",
       "      <td id=\"T_84868_row6_col2\" class=\"data row6 col2\" >0</td>\n",
       "      <td id=\"T_84868_row6_col3\" class=\"data row6 col3\" >0</td>\n",
       "      <td id=\"T_84868_row6_col4\" class=\"data row6 col4\" >0</td>\n",
       "      <td id=\"T_84868_row6_col5\" class=\"data row6 col5\" >0</td>\n",
       "      <td id=\"T_84868_row6_col6\" class=\"data row6 col6\" >0</td>\n",
       "      <td id=\"T_84868_row6_col7\" class=\"data row6 col7\" >0</td>\n",
       "      <td id=\"T_84868_row6_col8\" class=\"data row6 col8\" >0</td>\n",
       "      <td id=\"T_84868_row6_col9\" class=\"data row6 col9\" >128</td>\n",
       "      <td id=\"T_84868_row6_col10\" class=\"data row6 col10\" >255</td>\n",
       "      <td id=\"T_84868_row6_col11\" class=\"data row6 col11\" >255</td>\n",
       "      <td id=\"T_84868_row6_col12\" class=\"data row6 col12\" >128</td>\n",
       "      <td id=\"T_84868_row6_col13\" class=\"data row6 col13\" >0</td>\n",
       "    </tr>\n",
       "    <tr>\n",
       "      <th id=\"T_84868_level0_row7\" class=\"row_heading level0 row7\" >7</th>\n",
       "      <td id=\"T_84868_row7_col0\" class=\"data row7 col0\" >0</td>\n",
       "      <td id=\"T_84868_row7_col1\" class=\"data row7 col1\" >0</td>\n",
       "      <td id=\"T_84868_row7_col2\" class=\"data row7 col2\" >0</td>\n",
       "      <td id=\"T_84868_row7_col3\" class=\"data row7 col3\" >0</td>\n",
       "      <td id=\"T_84868_row7_col4\" class=\"data row7 col4\" >0</td>\n",
       "      <td id=\"T_84868_row7_col5\" class=\"data row7 col5\" >0</td>\n",
       "      <td id=\"T_84868_row7_col6\" class=\"data row7 col6\" >0</td>\n",
       "      <td id=\"T_84868_row7_col7\" class=\"data row7 col7\" >0</td>\n",
       "      <td id=\"T_84868_row7_col8\" class=\"data row7 col8\" >0</td>\n",
       "      <td id=\"T_84868_row7_col9\" class=\"data row7 col9\" >255</td>\n",
       "      <td id=\"T_84868_row7_col10\" class=\"data row7 col10\" >255</td>\n",
       "      <td id=\"T_84868_row7_col11\" class=\"data row7 col11\" >255</td>\n",
       "      <td id=\"T_84868_row7_col12\" class=\"data row7 col12\" >0</td>\n",
       "      <td id=\"T_84868_row7_col13\" class=\"data row7 col13\" >0</td>\n",
       "    </tr>\n",
       "    <tr>\n",
       "      <th id=\"T_84868_level0_row8\" class=\"row_heading level0 row8\" >8</th>\n",
       "      <td id=\"T_84868_row8_col0\" class=\"data row8 col0\" >0</td>\n",
       "      <td id=\"T_84868_row8_col1\" class=\"data row8 col1\" >0</td>\n",
       "      <td id=\"T_84868_row8_col2\" class=\"data row8 col2\" >0</td>\n",
       "      <td id=\"T_84868_row8_col3\" class=\"data row8 col3\" >0</td>\n",
       "      <td id=\"T_84868_row8_col4\" class=\"data row8 col4\" >0</td>\n",
       "      <td id=\"T_84868_row8_col5\" class=\"data row8 col5\" >0</td>\n",
       "      <td id=\"T_84868_row8_col6\" class=\"data row8 col6\" >0</td>\n",
       "      <td id=\"T_84868_row8_col7\" class=\"data row8 col7\" >0</td>\n",
       "      <td id=\"T_84868_row8_col8\" class=\"data row8 col8\" >191</td>\n",
       "      <td id=\"T_84868_row8_col9\" class=\"data row8 col9\" >255</td>\n",
       "      <td id=\"T_84868_row8_col10\" class=\"data row8 col10\" >255</td>\n",
       "      <td id=\"T_84868_row8_col11\" class=\"data row8 col11\" >191</td>\n",
       "      <td id=\"T_84868_row8_col12\" class=\"data row8 col12\" >0</td>\n",
       "      <td id=\"T_84868_row8_col13\" class=\"data row8 col13\" >0</td>\n",
       "    </tr>\n",
       "    <tr>\n",
       "      <th id=\"T_84868_level0_row9\" class=\"row_heading level0 row9\" >9</th>\n",
       "      <td id=\"T_84868_row9_col0\" class=\"data row9 col0\" >0</td>\n",
       "      <td id=\"T_84868_row9_col1\" class=\"data row9 col1\" >0</td>\n",
       "      <td id=\"T_84868_row9_col2\" class=\"data row9 col2\" >0</td>\n",
       "      <td id=\"T_84868_row9_col3\" class=\"data row9 col3\" >0</td>\n",
       "      <td id=\"T_84868_row9_col4\" class=\"data row9 col4\" >0</td>\n",
       "      <td id=\"T_84868_row9_col5\" class=\"data row9 col5\" >0</td>\n",
       "      <td id=\"T_84868_row9_col6\" class=\"data row9 col6\" >0</td>\n",
       "      <td id=\"T_84868_row9_col7\" class=\"data row9 col7\" >0</td>\n",
       "      <td id=\"T_84868_row9_col8\" class=\"data row9 col8\" >255</td>\n",
       "      <td id=\"T_84868_row9_col9\" class=\"data row9 col9\" >255</td>\n",
       "      <td id=\"T_84868_row9_col10\" class=\"data row9 col10\" >255</td>\n",
       "      <td id=\"T_84868_row9_col11\" class=\"data row9 col11\" >0</td>\n",
       "      <td id=\"T_84868_row9_col12\" class=\"data row9 col12\" >0</td>\n",
       "      <td id=\"T_84868_row9_col13\" class=\"data row9 col13\" >0</td>\n",
       "    </tr>\n",
       "    <tr>\n",
       "      <th id=\"T_84868_level0_row10\" class=\"row_heading level0 row10\" >10</th>\n",
       "      <td id=\"T_84868_row10_col0\" class=\"data row10 col0\" >0</td>\n",
       "      <td id=\"T_84868_row10_col1\" class=\"data row10 col1\" >0</td>\n",
       "      <td id=\"T_84868_row10_col2\" class=\"data row10 col2\" >0</td>\n",
       "      <td id=\"T_84868_row10_col3\" class=\"data row10 col3\" >0</td>\n",
       "      <td id=\"T_84868_row10_col4\" class=\"data row10 col4\" >0</td>\n",
       "      <td id=\"T_84868_row10_col5\" class=\"data row10 col5\" >0</td>\n",
       "      <td id=\"T_84868_row10_col6\" class=\"data row10 col6\" >64</td>\n",
       "      <td id=\"T_84868_row10_col7\" class=\"data row10 col7\" >191</td>\n",
       "      <td id=\"T_84868_row10_col8\" class=\"data row10 col8\" >255</td>\n",
       "      <td id=\"T_84868_row10_col9\" class=\"data row10 col9\" >255</td>\n",
       "      <td id=\"T_84868_row10_col10\" class=\"data row10 col10\" >191</td>\n",
       "      <td id=\"T_84868_row10_col11\" class=\"data row10 col11\" >0</td>\n",
       "      <td id=\"T_84868_row10_col12\" class=\"data row10 col12\" >0</td>\n",
       "      <td id=\"T_84868_row10_col13\" class=\"data row10 col13\" >0</td>\n",
       "    </tr>\n",
       "    <tr>\n",
       "      <th id=\"T_84868_level0_row11\" class=\"row_heading level0 row11\" >11</th>\n",
       "      <td id=\"T_84868_row11_col0\" class=\"data row11 col0\" >0</td>\n",
       "      <td id=\"T_84868_row11_col1\" class=\"data row11 col1\" >0</td>\n",
       "      <td id=\"T_84868_row11_col2\" class=\"data row11 col2\" >0</td>\n",
       "      <td id=\"T_84868_row11_col3\" class=\"data row11 col3\" >0</td>\n",
       "      <td id=\"T_84868_row11_col4\" class=\"data row11 col4\" >0</td>\n",
       "      <td id=\"T_84868_row11_col5\" class=\"data row11 col5\" >0</td>\n",
       "      <td id=\"T_84868_row11_col6\" class=\"data row11 col6\" >191</td>\n",
       "      <td id=\"T_84868_row11_col7\" class=\"data row11 col7\" >255</td>\n",
       "      <td id=\"T_84868_row11_col8\" class=\"data row11 col8\" >255</td>\n",
       "      <td id=\"T_84868_row11_col9\" class=\"data row11 col9\" >255</td>\n",
       "      <td id=\"T_84868_row11_col10\" class=\"data row11 col10\" >0</td>\n",
       "      <td id=\"T_84868_row11_col11\" class=\"data row11 col11\" >0</td>\n",
       "      <td id=\"T_84868_row11_col12\" class=\"data row11 col12\" >0</td>\n",
       "      <td id=\"T_84868_row11_col13\" class=\"data row11 col13\" >0</td>\n",
       "    </tr>\n",
       "    <tr>\n",
       "      <th id=\"T_84868_level0_row12\" class=\"row_heading level0 row12\" >12</th>\n",
       "      <td id=\"T_84868_row12_col0\" class=\"data row12 col0\" >0</td>\n",
       "      <td id=\"T_84868_row12_col1\" class=\"data row12 col1\" >0</td>\n",
       "      <td id=\"T_84868_row12_col2\" class=\"data row12 col2\" >0</td>\n",
       "      <td id=\"T_84868_row12_col3\" class=\"data row12 col3\" >64</td>\n",
       "      <td id=\"T_84868_row12_col4\" class=\"data row12 col4\" >128</td>\n",
       "      <td id=\"T_84868_row12_col5\" class=\"data row12 col5\" >255</td>\n",
       "      <td id=\"T_84868_row12_col6\" class=\"data row12 col6\" >255</td>\n",
       "      <td id=\"T_84868_row12_col7\" class=\"data row12 col7\" >255</td>\n",
       "      <td id=\"T_84868_row12_col8\" class=\"data row12 col8\" >255</td>\n",
       "      <td id=\"T_84868_row12_col9\" class=\"data row12 col9\" >64</td>\n",
       "      <td id=\"T_84868_row12_col10\" class=\"data row12 col10\" >0</td>\n",
       "      <td id=\"T_84868_row12_col11\" class=\"data row12 col11\" >0</td>\n",
       "      <td id=\"T_84868_row12_col12\" class=\"data row12 col12\" >0</td>\n",
       "      <td id=\"T_84868_row12_col13\" class=\"data row12 col13\" >0</td>\n",
       "    </tr>\n",
       "    <tr>\n",
       "      <th id=\"T_84868_level0_row13\" class=\"row_heading level0 row13\" >13</th>\n",
       "      <td id=\"T_84868_row13_col0\" class=\"data row13 col0\" >64</td>\n",
       "      <td id=\"T_84868_row13_col1\" class=\"data row13 col1\" >128</td>\n",
       "      <td id=\"T_84868_row13_col2\" class=\"data row13 col2\" >255</td>\n",
       "      <td id=\"T_84868_row13_col3\" class=\"data row13 col3\" >255</td>\n",
       "      <td id=\"T_84868_row13_col4\" class=\"data row13 col4\" >255</td>\n",
       "      <td id=\"T_84868_row13_col5\" class=\"data row13 col5\" >255</td>\n",
       "      <td id=\"T_84868_row13_col6\" class=\"data row13 col6\" >255</td>\n",
       "      <td id=\"T_84868_row13_col7\" class=\"data row13 col7\" >255</td>\n",
       "      <td id=\"T_84868_row13_col8\" class=\"data row13 col8\" >255</td>\n",
       "      <td id=\"T_84868_row13_col9\" class=\"data row13 col9\" >0</td>\n",
       "      <td id=\"T_84868_row13_col10\" class=\"data row13 col10\" >0</td>\n",
       "      <td id=\"T_84868_row13_col11\" class=\"data row13 col11\" >0</td>\n",
       "      <td id=\"T_84868_row13_col12\" class=\"data row13 col12\" >0</td>\n",
       "      <td id=\"T_84868_row13_col13\" class=\"data row13 col13\" >0</td>\n",
       "    </tr>\n",
       "    <tr>\n",
       "      <th id=\"T_84868_level0_row14\" class=\"row_heading level0 row14\" >14</th>\n",
       "      <td id=\"T_84868_row14_col0\" class=\"data row14 col0\" >255</td>\n",
       "      <td id=\"T_84868_row14_col1\" class=\"data row14 col1\" >255</td>\n",
       "      <td id=\"T_84868_row14_col2\" class=\"data row14 col2\" >255</td>\n",
       "      <td id=\"T_84868_row14_col3\" class=\"data row14 col3\" >255</td>\n",
       "      <td id=\"T_84868_row14_col4\" class=\"data row14 col4\" >255</td>\n",
       "      <td id=\"T_84868_row14_col5\" class=\"data row14 col5\" >255</td>\n",
       "      <td id=\"T_84868_row14_col6\" class=\"data row14 col6\" >255</td>\n",
       "      <td id=\"T_84868_row14_col7\" class=\"data row14 col7\" >255</td>\n",
       "      <td id=\"T_84868_row14_col8\" class=\"data row14 col8\" >255</td>\n",
       "      <td id=\"T_84868_row14_col9\" class=\"data row14 col9\" >191</td>\n",
       "      <td id=\"T_84868_row14_col10\" class=\"data row14 col10\" >64</td>\n",
       "      <td id=\"T_84868_row14_col11\" class=\"data row14 col11\" >0</td>\n",
       "      <td id=\"T_84868_row14_col12\" class=\"data row14 col12\" >0</td>\n",
       "      <td id=\"T_84868_row14_col13\" class=\"data row14 col13\" >0</td>\n",
       "    </tr>\n",
       "    <tr>\n",
       "      <th id=\"T_84868_level0_row15\" class=\"row_heading level0 row15\" >15</th>\n",
       "      <td id=\"T_84868_row15_col0\" class=\"data row15 col0\" >255</td>\n",
       "      <td id=\"T_84868_row15_col1\" class=\"data row15 col1\" >255</td>\n",
       "      <td id=\"T_84868_row15_col2\" class=\"data row15 col2\" >255</td>\n",
       "      <td id=\"T_84868_row15_col3\" class=\"data row15 col3\" >255</td>\n",
       "      <td id=\"T_84868_row15_col4\" class=\"data row15 col4\" >255</td>\n",
       "      <td id=\"T_84868_row15_col5\" class=\"data row15 col5\" >255</td>\n",
       "      <td id=\"T_84868_row15_col6\" class=\"data row15 col6\" >191</td>\n",
       "      <td id=\"T_84868_row15_col7\" class=\"data row15 col7\" >191</td>\n",
       "      <td id=\"T_84868_row15_col8\" class=\"data row15 col8\" >255</td>\n",
       "      <td id=\"T_84868_row15_col9\" class=\"data row15 col9\" >255</td>\n",
       "      <td id=\"T_84868_row15_col10\" class=\"data row15 col10\" >255</td>\n",
       "      <td id=\"T_84868_row15_col11\" class=\"data row15 col11\" >255</td>\n",
       "      <td id=\"T_84868_row15_col12\" class=\"data row15 col12\" >191</td>\n",
       "      <td id=\"T_84868_row15_col13\" class=\"data row15 col13\" >64</td>\n",
       "    </tr>\n",
       "    <tr>\n",
       "      <th id=\"T_84868_level0_row16\" class=\"row_heading level0 row16\" >16</th>\n",
       "      <td id=\"T_84868_row16_col0\" class=\"data row16 col0\" >255</td>\n",
       "      <td id=\"T_84868_row16_col1\" class=\"data row16 col1\" >255</td>\n",
       "      <td id=\"T_84868_row16_col2\" class=\"data row16 col2\" >255</td>\n",
       "      <td id=\"T_84868_row16_col3\" class=\"data row16 col3\" >255</td>\n",
       "      <td id=\"T_84868_row16_col4\" class=\"data row16 col4\" >255</td>\n",
       "      <td id=\"T_84868_row16_col5\" class=\"data row16 col5\" >64</td>\n",
       "      <td id=\"T_84868_row16_col6\" class=\"data row16 col6\" >0</td>\n",
       "      <td id=\"T_84868_row16_col7\" class=\"data row16 col7\" >0</td>\n",
       "      <td id=\"T_84868_row16_col8\" class=\"data row16 col8\" >0</td>\n",
       "      <td id=\"T_84868_row16_col9\" class=\"data row16 col9\" >191</td>\n",
       "      <td id=\"T_84868_row16_col10\" class=\"data row16 col10\" >255</td>\n",
       "      <td id=\"T_84868_row16_col11\" class=\"data row16 col11\" >255</td>\n",
       "      <td id=\"T_84868_row16_col12\" class=\"data row16 col12\" >191</td>\n",
       "      <td id=\"T_84868_row16_col13\" class=\"data row16 col13\" >128</td>\n",
       "    </tr>\n",
       "  </tbody>\n",
       "</table>\n"
      ],
      "text/plain": [
       "<pandas.io.formats.style.Styler at 0x72a2a54721b0>"
      ]
     },
     "execution_count": 7,
     "metadata": {},
     "output_type": "execute_result"
    }
   ],
   "source": [
    "t = tensor(Image.open(twos[0]))\n",
    "tdf = pd.DataFrame(t[3:20,9:23])\n",
    "tdf.style.set_properties(**{'font-size':'6pt'}).background_gradient('Greys')"
   ]
  },
  {
   "cell_type": "markdown",
   "id": "7b541e3c-5131-40b0-9127-231742439dd8",
   "metadata": {},
   "source": [
    "Read Images into Tensor"
   ]
  },
  {
   "cell_type": "code",
   "execution_count": 8,
   "id": "f82356a9-53fd-465a-a662-575ad56bf32c",
   "metadata": {},
   "outputs": [],
   "source": [
    "two_tensors = [tensor(Image.open(two)) for two in twos]\n",
    "five_tensors = [tensor(Image.open(five)) for five in fives]"
   ]
  },
  {
   "cell_type": "code",
   "execution_count": 9,
   "id": "8684598a-522b-4ff5-895b-9d35fb42fe0e",
   "metadata": {},
   "outputs": [
    {
     "name": "stdout",
     "output_type": "stream",
     "text": [
      "torch.Size([5958, 28, 28])\n",
      "torch.Size([5421, 28, 28])\n",
      "Images with '2': 5958\n",
      "Images with '5': 5421\n"
     ]
    }
   ],
   "source": [
    "two_t = torch.stack(two_tensors).float()/255\n",
    "print(two_t.shape)\n",
    "five_t = torch.stack(five_tensors).float()/255\n",
    "print(five_t.shape)\n",
    "\n",
    "print(f\"Images with '2': {two_t.shape[0]}\")\n",
    "print(f\"Images with '5': {five_t.shape[0]}\")"
   ]
  },
  {
   "cell_type": "markdown",
   "id": "ae8c7ac3-0329-4ac6-965b-2304f48c667e",
   "metadata": {},
   "source": [
    "## Baseline: Distance from Mean Image\n",
    "Get Mean 2s and 5s over all Images"
   ]
  },
  {
   "cell_type": "code",
   "execution_count": 10,
   "id": "555a5af2-9418-41da-947e-5fcf740cc48a",
   "metadata": {},
   "outputs": [],
   "source": [
    "mean_two = two_t.mean(0)\n",
    "mean_five = five_t.mean(0)"
   ]
  },
  {
   "cell_type": "code",
   "execution_count": 11,
   "id": "a21cb59b-9070-4c80-afbd-8ac1c84cc454",
   "metadata": {},
   "outputs": [
    {
     "data": {
      "text/plain": [
       "torch.Size([28, 28])"
      ]
     },
     "execution_count": 11,
     "metadata": {},
     "output_type": "execute_result"
    }
   ],
   "source": [
    "#Image.open(mean_two)\n",
    "mean_two.shape\n",
    "mean_five.shape"
   ]
  },
  {
   "cell_type": "code",
   "execution_count": 12,
   "id": "7a9052b7-61ab-4e84-a9b9-3db01ef98695",
   "metadata": {},
   "outputs": [
    {
     "data": {
      "text/plain": [
       "<Axes: >"
      ]
     },
     "execution_count": 12,
     "metadata": {},
     "output_type": "execute_result"
    },
    {
     "data": {
      "image/png": "[encoded data removed]",
      "text/plain": [
       "<Figure size 100x100 with 1 Axes>"
      ]
     },
     "metadata": {},
     "output_type": "display_data"
    },
    {
     "data": {
      "image/png": "[encoded data removed]",
      "text/plain": [
       "<Figure size 100x100 with 1 Axes>"
      ]
     },
     "metadata": {},
     "output_type": "display_data"
    }
   ],
   "source": [
    "show_image(mean_two)\n",
    "show_image(mean_five)"
   ]
  },
  {
   "cell_type": "markdown",
   "id": "f8b86c0e-78a3-4777-a47b-f7091349b45a",
   "metadata": {},
   "source": [
    "Calculate distance"
   ]
  },
  {
   "cell_type": "code",
   "execution_count": 13,
   "id": "762a5b9c-61f4-41c6-9df9-b71e184fd536",
   "metadata": {},
   "outputs": [],
   "source": [
    "def mse(im, mean):\n",
    "    return ((im - mean)**2).mean((-1,-2)).sqrt()\n",
    "\n",
    "#Equivalent to     \n",
    "#F.mse_loss(two_t[1], mean_five).sqrt()"
   ]
  },
  {
   "cell_type": "code",
   "execution_count": 14,
   "id": "735a21b8-39e3-4bcc-8da7-1f177bad111b",
   "metadata": {},
   "outputs": [
    {
     "data": {
      "text/html": [
       "<div>\n",
       "<style scoped>\n",
       "    .dataframe tbody tr th:only-of-type {\n",
       "        vertical-align: middle;\n",
       "    }\n",
       "\n",
       "    .dataframe tbody tr th {\n",
       "        vertical-align: top;\n",
       "    }\n",
       "\n",
       "    .dataframe thead th {\n",
       "        text-align: right;\n",
       "    }\n",
       "</style>\n",
       "<table border=\"1\" class=\"dataframe\">\n",
       "  <thead>\n",
       "    <tr style=\"text-align: right;\">\n",
       "      <th></th>\n",
       "      <th>mse_2</th>\n",
       "      <th>mse_5</th>\n",
       "    </tr>\n",
       "  </thead>\n",
       "  <tbody>\n",
       "    <tr>\n",
       "      <th>2</th>\n",
       "      <td>0.245812</td>\n",
       "      <td>0.25939</td>\n",
       "    </tr>\n",
       "    <tr>\n",
       "      <th>5</th>\n",
       "      <td>0.297486</td>\n",
       "      <td>0.244533</td>\n",
       "    </tr>\n",
       "  </tbody>\n",
       "</table>\n",
       "</div>"
      ],
      "text/plain": [
       "      mse_2     mse_5\n",
       "2  0.245812   0.25939\n",
       "5  0.297486  0.244533"
      ]
     },
     "execution_count": 14,
     "metadata": {},
     "output_type": "execute_result"
    }
   ],
   "source": [
    "df = pd.DataFrame(index=[2,5],columns=['mse_2','mse_5'])\n",
    "\n",
    "index = 2\n",
    "df.iat[0,0] = float(mse(two_t[index],mean_two))\n",
    "df.iat[0,1] = float(mse(two_t[index],mean_five))\n",
    "df.iat[1,0] = float(mse(five_t[index],mean_two))\n",
    "df.iat[1,1] = float(mse(five_t[index],mean_five))\n",
    "\n",
    "df"
   ]
  },
  {
   "cell_type": "markdown",
   "id": "140bf6eb-fe85-457a-ac3e-39b872a99b9d",
   "metadata": {},
   "source": [
    "Baseline is working!\n",
    "Numbers have lower loss for their corresponding mean numbers"
   ]
  },
  {
   "cell_type": "markdown",
   "id": "240a27c5-f326-4ee1-ba9b-9cc3f29f09ca",
   "metadata": {},
   "source": [
    "Now: Measure Accuracy for each Number"
   ]
  },
  {
   "cell_type": "code",
   "execution_count": 15,
   "id": "a6b3dbd2-a147-4316-80fa-4eac0e5a1952",
   "metadata": {},
   "outputs": [],
   "source": [
    "def pred(t):\n",
    "    two_score = F.mse_loss(t, mean_two).sqrt()\n",
    "    five_score = F.mse_loss(t, mean_five).sqrt()\n",
    "    scores = [two_score,five_score]\n",
    "    return ['2','5'][scores.index(min(scores))]"
   ]
  },
  {
   "cell_type": "code",
   "execution_count": 16,
   "id": "2f723386-1754-460c-a976-447c6848a25c",
   "metadata": {},
   "outputs": [],
   "source": [
    "mse_valid_two = mse(two_t,mean_two)\n",
    "mse_invalid_two = mse(two_t,mean_five)\n",
    "\n",
    "mse_invalid_five = mse(five_t,mean_two)\n",
    "mse_valid_five = mse(five_t,mean_five)"
   ]
  },
  {
   "cell_type": "markdown",
   "id": "9bf44e90-440d-4ef3-a47c-1b7ac6bbf1da",
   "metadata": {},
   "source": [
    "Get Accuracy of Baseline"
   ]
  },
  {
   "cell_type": "code",
   "execution_count": 17,
   "id": "43ffa23d-7ff8-4475-8833-c8d97ebb88ce",
   "metadata": {},
   "outputs": [
    {
     "name": "stdout",
     "output_type": "stream",
     "text": [
      "Accuracy: 0.9556\n",
      "Can a neural network do better?\n"
     ]
    }
   ],
   "source": [
    "first_is_lower = lambda a, b: a < b\n",
    "\n",
    "twos_acc = first_is_lower(mse_valid_two,mse_invalid_two).float().mean()\n",
    "fives_acc = first_is_lower(mse_valid_five,mse_invalid_five).float().mean()\n",
    "\n",
    "#print(f\"Accuracy '2': {twos_acc:.4f}\")\n",
    "#print(f\"Accuracy '5': {fives_acc:.4f}\")\n",
    "print(f\"Accuracy: {((twos_acc+fives_acc)/2):.4f}\")\n",
    "\n",
    "print(f\"Can a neural network do better?\")"
   ]
  },
  {
   "cell_type": "markdown",
   "id": "5167983d-4452-4918-83f0-1b956d60e883",
   "metadata": {},
   "source": [
    "Show wrongly classified '2's"
   ]
  },
  {
   "cell_type": "code",
   "execution_count": 18,
   "id": "2fb0ec63-dbbf-4c0b-9f63-82d5293f9cdf",
   "metadata": {},
   "outputs": [
    {
     "data": {
      "text/plain": [
       "<Axes: >"
      ]
     },
     "execution_count": 18,
     "metadata": {},
     "output_type": "execute_result"
    },
    {
     "data": {
      "image/png": "[encoded data removed]",
      "text/plain": [
       "<Figure size 100x100 with 1 Axes>"
      ]
     },
     "metadata": {},
     "output_type": "display_data"
    }
   ],
   "source": [
    "twos_res = first_is_lower(mse_valid_two,mse_invalid_two).float().tolist()\n",
    "wrong_ind = [index for index, x in enumerate(twos_res) if x == 0.0]\n",
    "show_image(two_t[wrong_ind[1]])"
   ]
  },
  {
   "cell_type": "markdown",
   "id": "9277c54b-44e3-41c5-85cd-5542bf9ceb1e",
   "metadata": {},
   "source": [
    "## Neural Network Classifier"
   ]
  },
  {
   "cell_type": "markdown",
   "id": "38560a22-d806-4027-9363-fbfe8b5bfb9f",
   "metadata": {},
   "source": [
    "Create DataLoader for Input Data"
   ]
  },
  {
   "cell_type": "markdown",
   "id": "3b6773c0-fee6-4485-9044-1890510c235b",
   "metadata": {},
   "source": [
    "Transform 2D-Images to 1D-Tensor(Vector)\n",
    "(_Note_) -1 makes first axis _as big as necessary_ to fit the data\n",
    "\n",
    "Label for one dataset: ```[x , y] x:= \"2\", y:=\"5\"``` \\\n",
    "e.g. ```[True,False] is a label for 2```"
   ]
  },
  {
   "cell_type": "code",
   "execution_count": 19,
   "id": "e44e4c99-53e0-42c0-ada3-be99c934741c",
   "metadata": {},
   "outputs": [],
   "source": [
    "# Combine training data\n",
    "train_x = torch.cat([two_t,five_t]).view(-1, 28*28)\n",
    "\n",
    "# Add Labels\n",
    "train_y = torch.zeros(train_x.shape[0], 2, dtype=int) \n",
    "train_y[:two_t.shape[0], 0] = 1\n",
    "train_y[two_t.shape[0]:, 1] = 1\n",
    "\n",
    "dset = list(zip(train_x,train_y))"
   ]
  },
  {
   "cell_type": "code",
   "execution_count": 20,
   "id": "83a47495-f873-4c5c-a88c-0bbe6fc6cdaf",
   "metadata": {},
   "outputs": [],
   "source": [
    "# Get test data\n",
    "test_path = path/'testing'\n",
    "ttwo = test_path/'2'\n",
    "tfive = test_path/'5'\n",
    "\n",
    "ttwo = [tensor(Image.open(o)) for o in ttwo.ls()]\n",
    "tfive = [tensor(Image.open(o)) for o in tfive.ls()]\n",
    "\n",
    "ttwo_t = torch.stack(ttwo).float()/255\n",
    "tfive_t = torch.stack(tfive).float()/255\n",
    "\n",
    "test_x = torch.cat([ttwo_t, tfive_t]).view(-1, 28*28)\n",
    "test_y = torch.zeros(train_x.shape[0], 2, dtype=int) \n",
    "test_y[:two_t.shape[0], 0] = 1\n",
    "test_y[two_t.shape[0]:, 1] = 1\n",
    "\n",
    "dset_test = list(zip(test_x,test_y))"
   ]
  },
  {
   "cell_type": "markdown",
   "id": "49407ca5-433b-4fe3-9d28-cc832e073ab2",
   "metadata": {},
   "source": [
    "Print image and label from dataset (dset)"
   ]
  },
  {
   "cell_type": "code",
   "execution_count": 21,
   "id": "427f9634-d79b-4155-9c78-a29c92663acf",
   "metadata": {},
   "outputs": [
    {
     "name": "stdout",
     "output_type": "stream",
     "text": [
      "image index:\t 5958\n",
      "label:\t\t tensor([0, 1])\n"
     ]
    },
    {
     "data": {
      "image/png": "[encoded data removed]",
      "text/plain": [
       "<Figure size 100x100 with 1 Axes>"
      ]
     },
     "metadata": {},
     "output_type": "display_data"
    }
   ],
   "source": [
    "index = two_t.shape[0]\n",
    "ig = dset[0][0]\n",
    "label = dset[index][1]\n",
    "show_image(dset[index][0].view(28,28))\n",
    "print(f\"image index:\\t {index}\")\n",
    "print(f\"label:\\t\\t {label}\")"
   ]
  },
  {
   "cell_type": "markdown",
   "id": "f14da3b9-a494-4c49-9b97-86d2b9117ab1",
   "metadata": {},
   "source": [
    "Save in DataLoader"
   ]
  },
  {
   "cell_type": "code",
   "execution_count": 22,
   "id": "17ff9ed1-95bf-4bad-9906-4207b92802c1",
   "metadata": {},
   "outputs": [],
   "source": [
    "dl = DataLoader(dset, batch_size=10, shuffle=True)\n",
    "dl_test = DataLoader(dset_test, batch_size=256)"
   ]
  },
  {
   "cell_type": "markdown",
   "id": "c62785e2-6b96-47aa-870f-7afecf06698c",
   "metadata": {},
   "source": [
    "Show Minibatch"
   ]
  },
  {
   "cell_type": "code",
   "execution_count": 23,
   "id": "7cdcb6b0-dbc0-4f9d-93ac-fc46a2579ef3",
   "metadata": {},
   "outputs": [
    {
     "data": {
      "text/plain": [
       "(tensor([[0., 0., 0.,  ..., 0., 0., 0.],\n",
       "         [0., 0., 0.,  ..., 0., 0., 0.],\n",
       "         [0., 0., 0.,  ..., 0., 0., 0.],\n",
       "         ...,\n",
       "         [0., 0., 0.,  ..., 0., 0., 0.],\n",
       "         [0., 0., 0.,  ..., 0., 0., 0.],\n",
       "         [0., 0., 0.,  ..., 0., 0., 0.]]),\n",
       " tensor([[1, 0],\n",
       "         [1, 0],\n",
       "         [0, 1],\n",
       "         [1, 0],\n",
       "         [1, 0],\n",
       "         [1, 0],\n",
       "         [0, 1],\n",
       "         [1, 0],\n",
       "         [1, 0],\n",
       "         [0, 1]]))"
      ]
     },
     "execution_count": 23,
     "metadata": {},
     "output_type": "execute_result"
    }
   ],
   "source": [
    "item = next(iter(dl))\n",
    "item"
   ]
  },
  {
   "cell_type": "markdown",
   "id": "103f2022-ab33-4ea6-93fe-8da01e18843b",
   "metadata": {},
   "source": [
    "## Create Model"
   ]
  },
  {
   "cell_type": "code",
   "execution_count": 46,
   "id": "8b51682a-5361-4595-841e-aca4066e59cb",
   "metadata": {},
   "outputs": [],
   "source": [
    "class SimpleNN(nn.Module):\n",
    "    def __init__(self, n_in, n_hidden, n_out):\n",
    "        super().__init__()\n",
    "        self.linear1 = nn.Linear(n_in, n_hidden)\n",
    "        self.linear2 = nn.Linear(n_hidden, n_out)\n",
    "\n",
    "    def forward(self, x):\n",
    "        x = F.relu(self.linear1(x))\n",
    "        return F.log_softmax(self.linear2(x), dim=-1)"
   ]
  },
  {
   "cell_type": "code",
   "execution_count": 47,
   "id": "bcce9e72-c53c-4c7c-991e-0c30f19082f1",
   "metadata": {},
   "outputs": [],
   "source": [
    "net = SimpleNN(28*28, 50, 2)\n",
    "optimizer = SGD(net.parameters(), lr=0.001)"
   ]
  },
  {
   "cell_type": "markdown",
   "id": "f550d7e7-94f6-4cf9-8851-45620877ede6",
   "metadata": {},
   "source": [
    "Example: One single forward pass"
   ]
  },
  {
   "cell_type": "code",
   "execution_count": 26,
   "id": "b930fcd3-74ff-4d1e-8916-c046e23a2147",
   "metadata": {},
   "outputs": [
    {
     "name": "stdout",
     "output_type": "stream",
     "text": [
      "tensor([-0.6603, -0.7271])\n",
      "tensor([1, 0])\n",
      "Loss 0.7271\n",
      "Prediction: False\n"
     ]
    },
    {
     "data": {
      "image/png": "[encoded data removed]",
      "text/plain": [
       "<Figure size 100x100 with 1 Axes>"
      ]
     },
     "metadata": {},
     "output_type": "display_data"
    }
   ],
   "source": [
    "item = next(iter(dl))\n",
    "pred = net(item[0][2]).data\n",
    "label = item[1][2]\n",
    "loss = F.nll_loss(pred, label)\n",
    "\n",
    "print(pred)\n",
    "print(label)\n",
    "show_image(item[0][2].view(28,28))\n",
    "print(f\"Loss {float(loss):.4f}\")\n",
    "\n",
    "#min(pred)\n",
    "correct = label[torch.argmin(pred)] == 1\n",
    "print(f\"Prediction: {bool(correct)}\")"
   ]
  },
  {
   "cell_type": "markdown",
   "id": "ddaf7d4e-ec6d-4a10-a4fd-90e7d7d1ed9f",
   "metadata": {},
   "source": [
    "Train Model"
   ]
  },
  {
   "cell_type": "code",
   "execution_count": 61,
   "id": "7f33f293-3b47-4709-a318-81170de7c997",
   "metadata": {},
   "outputs": [
    {
     "name": "stdout",
     "output_type": "stream",
     "text": [
      "Loss: 0.1097 Accuracy: 100.0\n",
      "Loss: 0.2463 Accuracy: 90.0\n",
      "Loss: 0.1796 Accuracy: 80.0\n",
      "Loss: 0.0369 Accuracy: 100.0\n",
      "Loss: 0.0666 Accuracy: 100.0\n"
     ]
    }
   ],
   "source": [
    "def train(epochs):\n",
    "    iter_dl = iter(dl)\n",
    "    for epoch in range(epochs):\n",
    "        current_loss = 0\n",
    "        corrects = 0\n",
    "\n",
    "        # Next Datapoint\n",
    "        data = next(iter_dl)\n",
    "        minibatch_size = data[0].shape[0]\n",
    "        for i in range(minibatch_size):\n",
    "            #show_image(data[0][i].view(28,28))\n",
    "            optimizer.zero_grad()\n",
    "            pred = net(data[0][i])\n",
    "            label = data[1][i]\n",
    "            loss = F.nll_loss(pred, label)\n",
    "            loss.backward()\n",
    "            optimizer.step()\n",
    "\n",
    "            # Count loss and correct predictions\n",
    "            current_loss += loss\n",
    "            corrects += torch.sum(label[torch.argmin(pred)] == 1)\n",
    "            \n",
    "        if (epoch+1) % 10 == 0: \n",
    "            accuracy = 100.*corrects/minibatch_size\n",
    "            loss = current_loss/minibatch_size\n",
    "            print(f\"Loss: {loss:.4f} Accuracy: {accuracy}\")\n",
    "\n",
    "train(50)"
   ]
  },
  {
   "cell_type": "markdown",
   "id": "490121ed-bc95-479a-a3c5-5fed5422be97",
   "metadata": {},
   "source": [
    "Validate Model"
   ]
  },
  {
   "cell_type": "code",
   "execution_count": 62,
   "id": "4e259ced-9feb-4e21-95c6-08072612f79b",
   "metadata": {},
   "outputs": [
    {
     "name": "stdout",
     "output_type": "stream",
     "text": [
      "Loss: 0.0829 Accuracy: 97.6562\n"
     ]
    }
   ],
   "source": [
    "def validate():\n",
    "    iter_dl = iter(dl_test)\n",
    "    current_loss = 0\n",
    "    corrects = 0\n",
    "    \n",
    "    # Next Datapoint\n",
    "    data=next(iter_dl)\n",
    "    minibatch_size = data[0].shape[0]\n",
    "\n",
    "    for i in range(minibatch_size):\n",
    "        #show_image(data[0][i].view(28,28))\n",
    "        pred = net(data[0][i])\n",
    "        label = data[1][i]\n",
    "        loss = F.nll_loss(pred, label)\n",
    "        current_loss += loss\n",
    "        corrects += torch.sum(label[torch.argmin(pred)] == 1)\n",
    "\n",
    "    accuracy = 100.*corrects/minibatch_size\n",
    "    loss = current_loss/minibatch_size\n",
    "    print(f\"Loss: {loss:.4f} Accuracy: {accuracy:.4f}\")\n",
    "\n",
    "validate()"
   ]
  }
 ],
 "metadata": {
  "kernelspec": {
   "display_name": "Python 3 (ipykernel)",
   "language": "python",
   "name": "python3"
  },
  "language_info": {
   "codemirror_mode": {
    "name": "ipython",
    "version": 3
   },
   "file_extension": ".py",
   "mimetype": "text/x-python",
   "name": "python",
   "nbconvert_exporter": "python",
   "pygments_lexer": "ipython3",
   "version": "3.12.8"
  }
 },
 "nbformat": 4,
 "nbformat_minor": 5
}
