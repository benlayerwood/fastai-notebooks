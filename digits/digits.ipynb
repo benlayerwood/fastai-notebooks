{
 "cells": [
  {
   "cell_type": "markdown",
   "id": "cfc50a19-8d5f-4e94-bf6f-0e1e19d25a79",
   "metadata": {},
   "source": [
    "# MNIST Digits Classifier"
   ]
  },
  {
   "cell_type": "code",
   "execution_count": 1,
   "id": "90b33f13-0998-43c7-a4be-6aa957b8ba5d",
   "metadata": {
    "editable": true,
    "slideshow": {
     "slide_type": ""
    },
    "tags": []
   },
   "outputs": [],
   "source": [
    "### hide\n",
    "from fastai.vision.all import *\n",
    "\n",
    "matplotlib.rc('image', cmap='Greys')"
   ]
  },
  {
   "cell_type": "markdown",
   "id": "f2fd5e3e-3092-4f8b-a489-8ef80bf430a9",
   "metadata": {},
   "source": [
    "Hide Base Path"
   ]
  },
  {
   "cell_type": "code",
   "execution_count": 2,
   "id": "0ab8455f-66b2-4cdf-b70b-90d18498d1cb",
   "metadata": {},
   "outputs": [],
   "source": [
    "path = untar_data(URLs.MNIST)"
   ]
  },
  {
   "cell_type": "code",
   "execution_count": 3,
   "id": "4c2811af-0153-4768-864c-fa5e15e5515d",
   "metadata": {},
   "outputs": [],
   "source": [
    "#hide\n",
    "Path.BASE_PATH = path"
   ]
  },
  {
   "cell_type": "markdown",
   "id": "88a646b5-add4-4c49-986d-449cc7d6add2",
   "metadata": {},
   "source": [
    "Get MNIST Data"
   ]
  },
  {
   "cell_type": "code",
   "execution_count": 4,
   "id": "0c857408-152d-4958-9e5f-f3ca08db9f5d",
   "metadata": {
    "editable": true,
    "slideshow": {
     "slide_type": ""
    },
    "tags": []
   },
   "outputs": [
    {
     "data": {
      "text/plain": [
       "(#10) [Path('training/2'),Path('training/7'),Path('training/5'),Path('training/3'),Path('training/8'),Path('training/6'),Path('training/0'),Path('training/1'),Path('training/4'),Path('training/9')]"
      ]
     },
     "execution_count": 4,
     "metadata": {},
     "output_type": "execute_result"
    }
   ],
   "source": [
    "train_path = path/'training'\n",
    "\n",
    "train_path.ls()"
   ]
  },
  {
   "cell_type": "code",
   "execution_count": 5,
   "id": "4c14d9a2-abb7-46ff-ae38-df260ac87054",
   "metadata": {},
   "outputs": [
    {
     "name": "stdout",
     "output_type": "stream",
     "text": [
      "[Path('training/2/10009.png'), Path('training/2/10016.png')]\n",
      "[Path('training/5/0.png'), Path('training/5/100.png')]\n"
     ]
    }
   ],
   "source": [
    "twos = (train_path/'2').ls().sorted()\n",
    "fives = (train_path/'5').ls().sorted()\n",
    "\n",
    "print(twos[:2])\n",
    "print(fives[:2])"
   ]
  },
  {
   "cell_type": "markdown",
   "id": "06cba244-55d3-42a6-b87b-58f020076f42",
   "metadata": {},
   "source": [
    "Show Example Image"
   ]
  },
  {
   "cell_type": "code",
   "execution_count": 6,
   "id": "4ed05028-d06d-40d8-9b84-bb9383df5916",
   "metadata": {},
   "outputs": [
    {
     "data": {
      "image/jpeg": "[encoded data removed]",
      "image/png": "[encoded data removed]",
      "text/plain": [
       "<PIL.PngImagePlugin.PngImageFile image mode=L size=28x28>"
      ]
     },
     "execution_count": 6,
     "metadata": {},
     "output_type": "execute_result"
    }
   ],
   "source": [
    "Image.open(twos[0])\n",
    "#Image.open(fives[1])"
   ]
  },
  {
   "cell_type": "code",
   "execution_count": 7,
   "id": "44a5a712-9d62-46bb-972b-848da9d86d02",
   "metadata": {},
   "outputs": [
    {
     "data": {
      "text/html": [
       "<style type=\"text/css\">\n",
       "#T_71ba5_row0_col0, #T_71ba5_row0_col1, #T_71ba5_row0_col2, #T_71ba5_row0_col3, #T_71ba5_row0_col4, #T_71ba5_row0_col5, #T_71ba5_row0_col6, #T_71ba5_row0_col7, #T_71ba5_row0_col8, #T_71ba5_row0_col9, #T_71ba5_row0_col10, #T_71ba5_row0_col11, #T_71ba5_row0_col12, #T_71ba5_row0_col13, #T_71ba5_row1_col0, #T_71ba5_row1_col1, #T_71ba5_row1_col2, #T_71ba5_row1_col3, #T_71ba5_row1_col4, #T_71ba5_row1_col11, #T_71ba5_row1_col12, #T_71ba5_row1_col13, #T_71ba5_row2_col0, #T_71ba5_row2_col1, #T_71ba5_row2_col2, #T_71ba5_row2_col12, #T_71ba5_row2_col13, #T_71ba5_row3_col0, #T_71ba5_row3_col1, #T_71ba5_row3_col13, #T_71ba5_row4_col0, #T_71ba5_row4_col1, #T_71ba5_row4_col8, #T_71ba5_row4_col13, #T_71ba5_row5_col0, #T_71ba5_row5_col1, #T_71ba5_row5_col2, #T_71ba5_row5_col6, #T_71ba5_row5_col7, #T_71ba5_row5_col8, #T_71ba5_row5_col13, #T_71ba5_row6_col0, #T_71ba5_row6_col1, #T_71ba5_row6_col2, #T_71ba5_row6_col3, #T_71ba5_row6_col4, #T_71ba5_row6_col5, #T_71ba5_row6_col6, #T_71ba5_row6_col7, #T_71ba5_row6_col8, #T_71ba5_row6_col13, #T_71ba5_row7_col0, #T_71ba5_row7_col1, #T_71ba5_row7_col2, #T_71ba5_row7_col3, #T_71ba5_row7_col4, #T_71ba5_row7_col5, #T_71ba5_row7_col6, #T_71ba5_row7_col7, #T_71ba5_row7_col8, #T_71ba5_row7_col12, #T_71ba5_row7_col13, #T_71ba5_row8_col0, #T_71ba5_row8_col1, #T_71ba5_row8_col2, #T_71ba5_row8_col3, #T_71ba5_row8_col4, #T_71ba5_row8_col5, #T_71ba5_row8_col6, #T_71ba5_row8_col7, #T_71ba5_row8_col12, #T_71ba5_row8_col13, #T_71ba5_row9_col0, #T_71ba5_row9_col1, #T_71ba5_row9_col2, #T_71ba5_row9_col3, #T_71ba5_row9_col4, #T_71ba5_row9_col5, #T_71ba5_row9_col6, #T_71ba5_row9_col7, #T_71ba5_row9_col11, #T_71ba5_row9_col12, #T_71ba5_row9_col13, #T_71ba5_row10_col0, #T_71ba5_row10_col1, #T_71ba5_row10_col2, #T_71ba5_row10_col3, #T_71ba5_row10_col4, #T_71ba5_row10_col5, #T_71ba5_row10_col11, #T_71ba5_row10_col12, #T_71ba5_row10_col13, #T_71ba5_row11_col0, #T_71ba5_row11_col1, #T_71ba5_row11_col2, #T_71ba5_row11_col3, #T_71ba5_row11_col4, #T_71ba5_row11_col5, #T_71ba5_row11_col10, #T_71ba5_row11_col11, #T_71ba5_row11_col12, #T_71ba5_row11_col13, #T_71ba5_row12_col0, #T_71ba5_row12_col1, #T_71ba5_row12_col2, #T_71ba5_row12_col10, #T_71ba5_row12_col11, #T_71ba5_row12_col12, #T_71ba5_row12_col13, #T_71ba5_row13_col9, #T_71ba5_row13_col10, #T_71ba5_row13_col11, #T_71ba5_row13_col12, #T_71ba5_row13_col13, #T_71ba5_row14_col11, #T_71ba5_row14_col12, #T_71ba5_row14_col13, #T_71ba5_row16_col6, #T_71ba5_row16_col7, #T_71ba5_row16_col8 {\n",
       "  font-size: 6pt;\n",
       "  background-color: #ffffff;\n",
       "  color: #000000;\n",
       "}\n",
       "#T_71ba5_row1_col5, #T_71ba5_row1_col6, #T_71ba5_row2_col11, #T_71ba5_row3_col2, #T_71ba5_row3_col8, #T_71ba5_row4_col2, #T_71ba5_row5_col4, #T_71ba5_row5_col9, #T_71ba5_row6_col9, #T_71ba5_row12_col4, #T_71ba5_row13_col1, #T_71ba5_row15_col13 {\n",
       "  font-size: 6pt;\n",
       "  background-color: #959595;\n",
       "  color: #f1f1f1;\n",
       "}\n",
       "#T_71ba5_row1_col7, #T_71ba5_row2_col3, #T_71ba5_row3_col9, #T_71ba5_row4_col6, #T_71ba5_row8_col8, #T_71ba5_row8_col11, #T_71ba5_row10_col7, #T_71ba5_row10_col10, #T_71ba5_row11_col6, #T_71ba5_row14_col9, #T_71ba5_row15_col6, #T_71ba5_row15_col7, #T_71ba5_row16_col9 {\n",
       "  font-size: 6pt;\n",
       "  background-color: #525252;\n",
       "  color: #f1f1f1;\n",
       "}\n",
       "#T_71ba5_row1_col8, #T_71ba5_row1_col9, #T_71ba5_row1_col10, #T_71ba5_row2_col4, #T_71ba5_row2_col5, #T_71ba5_row2_col6, #T_71ba5_row2_col7, #T_71ba5_row2_col8, #T_71ba5_row2_col9, #T_71ba5_row2_col10, #T_71ba5_row3_col3, #T_71ba5_row3_col4, #T_71ba5_row3_col5, #T_71ba5_row3_col6, #T_71ba5_row3_col7, #T_71ba5_row3_col10, #T_71ba5_row3_col11, #T_71ba5_row4_col3, #T_71ba5_row4_col4, #T_71ba5_row4_col5, #T_71ba5_row4_col10, #T_71ba5_row4_col11, #T_71ba5_row5_col10, #T_71ba5_row5_col11, #T_71ba5_row6_col10, #T_71ba5_row6_col11, #T_71ba5_row7_col9, #T_71ba5_row7_col10, #T_71ba5_row7_col11, #T_71ba5_row8_col9, #T_71ba5_row8_col10, #T_71ba5_row9_col8, #T_71ba5_row9_col9, #T_71ba5_row9_col10, #T_71ba5_row10_col8, #T_71ba5_row10_col9, #T_71ba5_row11_col7, #T_71ba5_row11_col8, #T_71ba5_row11_col9, #T_71ba5_row12_col5, #T_71ba5_row12_col6, #T_71ba5_row12_col7, #T_71ba5_row12_col8, #T_71ba5_row13_col2, #T_71ba5_row13_col3, #T_71ba5_row13_col4, #T_71ba5_row13_col5, #T_71ba5_row13_col6, #T_71ba5_row13_col7, #T_71ba5_row13_col8, #T_71ba5_row14_col0, #T_71ba5_row14_col1, #T_71ba5_row14_col2, #T_71ba5_row14_col3, #T_71ba5_row14_col4, #T_71ba5_row14_col5, #T_71ba5_row14_col6, #T_71ba5_row14_col7, #T_71ba5_row14_col8, #T_71ba5_row15_col0, #T_71ba5_row15_col1, #T_71ba5_row15_col2, #T_71ba5_row15_col3, #T_71ba5_row15_col4, #T_71ba5_row15_col5, #T_71ba5_row15_col8, #T_71ba5_row15_col9, #T_71ba5_row15_col10, #T_71ba5_row15_col11, #T_71ba5_row15_col12, #T_71ba5_row16_col0, #T_71ba5_row16_col1, #T_71ba5_row16_col2, #T_71ba5_row16_col3, #T_71ba5_row16_col4, #T_71ba5_row16_col10, #T_71ba5_row16_col11, #T_71ba5_row16_col12, #T_71ba5_row16_col13 {\n",
       "  font-size: 6pt;\n",
       "  background-color: #000000;\n",
       "  color: #f1f1f1;\n",
       "}\n",
       "#T_71ba5_row3_col12 {\n",
       "  font-size: 6pt;\n",
       "  background-color: #c6c6c6;\n",
       "  color: #000000;\n",
       "}\n",
       "#T_71ba5_row4_col7, #T_71ba5_row4_col9, #T_71ba5_row5_col3, #T_71ba5_row5_col5, #T_71ba5_row10_col6, #T_71ba5_row12_col3, #T_71ba5_row12_col9, #T_71ba5_row13_col0, #T_71ba5_row14_col10, #T_71ba5_row16_col5 {\n",
       "  font-size: 6pt;\n",
       "  background-color: #d9d9d9;\n",
       "  color: #000000;\n",
       "}\n",
       "#T_71ba5_row4_col12, #T_71ba5_row5_col12, #T_71ba5_row6_col12 {\n",
       "  font-size: 6pt;\n",
       "  background-color: #676767;\n",
       "  color: #f1f1f1;\n",
       "}\n",
       "</style>\n",
       "<table id=\"T_71ba5\">\n",
       "  <thead>\n",
       "    <tr>\n",
       "      <th class=\"blank level0\" >&nbsp;</th>\n",
       "      <th id=\"T_71ba5_level0_col0\" class=\"col_heading level0 col0\" >0</th>\n",
       "      <th id=\"T_71ba5_level0_col1\" class=\"col_heading level0 col1\" >1</th>\n",
       "      <th id=\"T_71ba5_level0_col2\" class=\"col_heading level0 col2\" >2</th>\n",
       "      <th id=\"T_71ba5_level0_col3\" class=\"col_heading level0 col3\" >3</th>\n",
       "      <th id=\"T_71ba5_level0_col4\" class=\"col_heading level0 col4\" >4</th>\n",
       "      <th id=\"T_71ba5_level0_col5\" class=\"col_heading level0 col5\" >5</th>\n",
       "      <th id=\"T_71ba5_level0_col6\" class=\"col_heading level0 col6\" >6</th>\n",
       "      <th id=\"T_71ba5_level0_col7\" class=\"col_heading level0 col7\" >7</th>\n",
       "      <th id=\"T_71ba5_level0_col8\" class=\"col_heading level0 col8\" >8</th>\n",
       "      <th id=\"T_71ba5_level0_col9\" class=\"col_heading level0 col9\" >9</th>\n",
       "      <th id=\"T_71ba5_level0_col10\" class=\"col_heading level0 col10\" >10</th>\n",
       "      <th id=\"T_71ba5_level0_col11\" class=\"col_heading level0 col11\" >11</th>\n",
       "      <th id=\"T_71ba5_level0_col12\" class=\"col_heading level0 col12\" >12</th>\n",
       "      <th id=\"T_71ba5_level0_col13\" class=\"col_heading level0 col13\" >13</th>\n",
       "    </tr>\n",
       "  </thead>\n",
       "  <tbody>\n",
       "    <tr>\n",
       "      <th id=\"T_71ba5_level0_row0\" class=\"row_heading level0 row0\" >0</th>\n",
       "      <td id=\"T_71ba5_row0_col0\" class=\"data row0 col0\" >0</td>\n",
       "      <td id=\"T_71ba5_row0_col1\" class=\"data row0 col1\" >0</td>\n",
       "      <td id=\"T_71ba5_row0_col2\" class=\"data row0 col2\" >0</td>\n",
       "      <td id=\"T_71ba5_row0_col3\" class=\"data row0 col3\" >0</td>\n",
       "      <td id=\"T_71ba5_row0_col4\" class=\"data row0 col4\" >0</td>\n",
       "      <td id=\"T_71ba5_row0_col5\" class=\"data row0 col5\" >0</td>\n",
       "      <td id=\"T_71ba5_row0_col6\" class=\"data row0 col6\" >0</td>\n",
       "      <td id=\"T_71ba5_row0_col7\" class=\"data row0 col7\" >0</td>\n",
       "      <td id=\"T_71ba5_row0_col8\" class=\"data row0 col8\" >0</td>\n",
       "      <td id=\"T_71ba5_row0_col9\" class=\"data row0 col9\" >0</td>\n",
       "      <td id=\"T_71ba5_row0_col10\" class=\"data row0 col10\" >0</td>\n",
       "      <td id=\"T_71ba5_row0_col11\" class=\"data row0 col11\" >0</td>\n",
       "      <td id=\"T_71ba5_row0_col12\" class=\"data row0 col12\" >0</td>\n",
       "      <td id=\"T_71ba5_row0_col13\" class=\"data row0 col13\" >0</td>\n",
       "    </tr>\n",
       "    <tr>\n",
       "      <th id=\"T_71ba5_level0_row1\" class=\"row_heading level0 row1\" >1</th>\n",
       "      <td id=\"T_71ba5_row1_col0\" class=\"data row1 col0\" >0</td>\n",
       "      <td id=\"T_71ba5_row1_col1\" class=\"data row1 col1\" >0</td>\n",
       "      <td id=\"T_71ba5_row1_col2\" class=\"data row1 col2\" >0</td>\n",
       "      <td id=\"T_71ba5_row1_col3\" class=\"data row1 col3\" >0</td>\n",
       "      <td id=\"T_71ba5_row1_col4\" class=\"data row1 col4\" >0</td>\n",
       "      <td id=\"T_71ba5_row1_col5\" class=\"data row1 col5\" >128</td>\n",
       "      <td id=\"T_71ba5_row1_col6\" class=\"data row1 col6\" >128</td>\n",
       "      <td id=\"T_71ba5_row1_col7\" class=\"data row1 col7\" >191</td>\n",
       "      <td id=\"T_71ba5_row1_col8\" class=\"data row1 col8\" >255</td>\n",
       "      <td id=\"T_71ba5_row1_col9\" class=\"data row1 col9\" >255</td>\n",
       "      <td id=\"T_71ba5_row1_col10\" class=\"data row1 col10\" >255</td>\n",
       "      <td id=\"T_71ba5_row1_col11\" class=\"data row1 col11\" >0</td>\n",
       "      <td id=\"T_71ba5_row1_col12\" class=\"data row1 col12\" >0</td>\n",
       "      <td id=\"T_71ba5_row1_col13\" class=\"data row1 col13\" >0</td>\n",
       "    </tr>\n",
       "    <tr>\n",
       "      <th id=\"T_71ba5_level0_row2\" class=\"row_heading level0 row2\" >2</th>\n",
       "      <td id=\"T_71ba5_row2_col0\" class=\"data row2 col0\" >0</td>\n",
       "      <td id=\"T_71ba5_row2_col1\" class=\"data row2 col1\" >0</td>\n",
       "      <td id=\"T_71ba5_row2_col2\" class=\"data row2 col2\" >0</td>\n",
       "      <td id=\"T_71ba5_row2_col3\" class=\"data row2 col3\" >191</td>\n",
       "      <td id=\"T_71ba5_row2_col4\" class=\"data row2 col4\" >255</td>\n",
       "      <td id=\"T_71ba5_row2_col5\" class=\"data row2 col5\" >255</td>\n",
       "      <td id=\"T_71ba5_row2_col6\" class=\"data row2 col6\" >255</td>\n",
       "      <td id=\"T_71ba5_row2_col7\" class=\"data row2 col7\" >255</td>\n",
       "      <td id=\"T_71ba5_row2_col8\" class=\"data row2 col8\" >255</td>\n",
       "      <td id=\"T_71ba5_row2_col9\" class=\"data row2 col9\" >255</td>\n",
       "      <td id=\"T_71ba5_row2_col10\" class=\"data row2 col10\" >255</td>\n",
       "      <td id=\"T_71ba5_row2_col11\" class=\"data row2 col11\" >128</td>\n",
       "      <td id=\"T_71ba5_row2_col12\" class=\"data row2 col12\" >0</td>\n",
       "      <td id=\"T_71ba5_row2_col13\" class=\"data row2 col13\" >0</td>\n",
       "    </tr>\n",
       "    <tr>\n",
       "      <th id=\"T_71ba5_level0_row3\" class=\"row_heading level0 row3\" >3</th>\n",
       "      <td id=\"T_71ba5_row3_col0\" class=\"data row3 col0\" >0</td>\n",
       "      <td id=\"T_71ba5_row3_col1\" class=\"data row3 col1\" >0</td>\n",
       "      <td id=\"T_71ba5_row3_col2\" class=\"data row3 col2\" >128</td>\n",
       "      <td id=\"T_71ba5_row3_col3\" class=\"data row3 col3\" >255</td>\n",
       "      <td id=\"T_71ba5_row3_col4\" class=\"data row3 col4\" >255</td>\n",
       "      <td id=\"T_71ba5_row3_col5\" class=\"data row3 col5\" >255</td>\n",
       "      <td id=\"T_71ba5_row3_col6\" class=\"data row3 col6\" >255</td>\n",
       "      <td id=\"T_71ba5_row3_col7\" class=\"data row3 col7\" >255</td>\n",
       "      <td id=\"T_71ba5_row3_col8\" class=\"data row3 col8\" >128</td>\n",
       "      <td id=\"T_71ba5_row3_col9\" class=\"data row3 col9\" >191</td>\n",
       "      <td id=\"T_71ba5_row3_col10\" class=\"data row3 col10\" >255</td>\n",
       "      <td id=\"T_71ba5_row3_col11\" class=\"data row3 col11\" >255</td>\n",
       "      <td id=\"T_71ba5_row3_col12\" class=\"data row3 col12\" >64</td>\n",
       "      <td id=\"T_71ba5_row3_col13\" class=\"data row3 col13\" >0</td>\n",
       "    </tr>\n",
       "    <tr>\n",
       "      <th id=\"T_71ba5_level0_row4\" class=\"row_heading level0 row4\" >4</th>\n",
       "      <td id=\"T_71ba5_row4_col0\" class=\"data row4 col0\" >0</td>\n",
       "      <td id=\"T_71ba5_row4_col1\" class=\"data row4 col1\" >0</td>\n",
       "      <td id=\"T_71ba5_row4_col2\" class=\"data row4 col2\" >128</td>\n",
       "      <td id=\"T_71ba5_row4_col3\" class=\"data row4 col3\" >255</td>\n",
       "      <td id=\"T_71ba5_row4_col4\" class=\"data row4 col4\" >255</td>\n",
       "      <td id=\"T_71ba5_row4_col5\" class=\"data row4 col5\" >255</td>\n",
       "      <td id=\"T_71ba5_row4_col6\" class=\"data row4 col6\" >191</td>\n",
       "      <td id=\"T_71ba5_row4_col7\" class=\"data row4 col7\" >64</td>\n",
       "      <td id=\"T_71ba5_row4_col8\" class=\"data row4 col8\" >0</td>\n",
       "      <td id=\"T_71ba5_row4_col9\" class=\"data row4 col9\" >64</td>\n",
       "      <td id=\"T_71ba5_row4_col10\" class=\"data row4 col10\" >255</td>\n",
       "      <td id=\"T_71ba5_row4_col11\" class=\"data row4 col11\" >255</td>\n",
       "      <td id=\"T_71ba5_row4_col12\" class=\"data row4 col12\" >128</td>\n",
       "      <td id=\"T_71ba5_row4_col13\" class=\"data row4 col13\" >0</td>\n",
       "    </tr>\n",
       "    <tr>\n",
       "      <th id=\"T_71ba5_level0_row5\" class=\"row_heading level0 row5\" >5</th>\n",
       "      <td id=\"T_71ba5_row5_col0\" class=\"data row5 col0\" >0</td>\n",
       "      <td id=\"T_71ba5_row5_col1\" class=\"data row5 col1\" >0</td>\n",
       "      <td id=\"T_71ba5_row5_col2\" class=\"data row5 col2\" >0</td>\n",
       "      <td id=\"T_71ba5_row5_col3\" class=\"data row5 col3\" >64</td>\n",
       "      <td id=\"T_71ba5_row5_col4\" class=\"data row5 col4\" >128</td>\n",
       "      <td id=\"T_71ba5_row5_col5\" class=\"data row5 col5\" >64</td>\n",
       "      <td id=\"T_71ba5_row5_col6\" class=\"data row5 col6\" >0</td>\n",
       "      <td id=\"T_71ba5_row5_col7\" class=\"data row5 col7\" >0</td>\n",
       "      <td id=\"T_71ba5_row5_col8\" class=\"data row5 col8\" >0</td>\n",
       "      <td id=\"T_71ba5_row5_col9\" class=\"data row5 col9\" >128</td>\n",
       "      <td id=\"T_71ba5_row5_col10\" class=\"data row5 col10\" >255</td>\n",
       "      <td id=\"T_71ba5_row5_col11\" class=\"data row5 col11\" >255</td>\n",
       "      <td id=\"T_71ba5_row5_col12\" class=\"data row5 col12\" >128</td>\n",
       "      <td id=\"T_71ba5_row5_col13\" class=\"data row5 col13\" >0</td>\n",
       "    </tr>\n",
       "    <tr>\n",
       "      <th id=\"T_71ba5_level0_row6\" class=\"row_heading level0 row6\" >6</th>\n",
       "      <td id=\"T_71ba5_row6_col0\" class=\"data row6 col0\" >0</td>\n",
       "      <td id=\"T_71ba5_row6_col1\" class=\"data row6 col1\" >0</td>\n",
       "      <td id=\"T_71ba5_row6_col2\" class=\"data row6 col2\" >0</td>\n",
       "      <td id=\"T_71ba5_row6_col3\" class=\"data row6 col3\" >0</td>\n",
       "      <td id=\"T_71ba5_row6_col4\" class=\"data row6 col4\" >0</td>\n",
       "      <td id=\"T_71ba5_row6_col5\" class=\"data row6 col5\" >0</td>\n",
       "      <td id=\"T_71ba5_row6_col6\" class=\"data row6 col6\" >0</td>\n",
       "      <td id=\"T_71ba5_row6_col7\" class=\"data row6 col7\" >0</td>\n",
       "      <td id=\"T_71ba5_row6_col8\" class=\"data row6 col8\" >0</td>\n",
       "      <td id=\"T_71ba5_row6_col9\" class=\"data row6 col9\" >128</td>\n",
       "      <td id=\"T_71ba5_row6_col10\" class=\"data row6 col10\" >255</td>\n",
       "      <td id=\"T_71ba5_row6_col11\" class=\"data row6 col11\" >255</td>\n",
       "      <td id=\"T_71ba5_row6_col12\" class=\"data row6 col12\" >128</td>\n",
       "      <td id=\"T_71ba5_row6_col13\" class=\"data row6 col13\" >0</td>\n",
       "    </tr>\n",
       "    <tr>\n",
       "      <th id=\"T_71ba5_level0_row7\" class=\"row_heading level0 row7\" >7</th>\n",
       "      <td id=\"T_71ba5_row7_col0\" class=\"data row7 col0\" >0</td>\n",
       "      <td id=\"T_71ba5_row7_col1\" class=\"data row7 col1\" >0</td>\n",
       "      <td id=\"T_71ba5_row7_col2\" class=\"data row7 col2\" >0</td>\n",
       "      <td id=\"T_71ba5_row7_col3\" class=\"data row7 col3\" >0</td>\n",
       "      <td id=\"T_71ba5_row7_col4\" class=\"data row7 col4\" >0</td>\n",
       "      <td id=\"T_71ba5_row7_col5\" class=\"data row7 col5\" >0</td>\n",
       "      <td id=\"T_71ba5_row7_col6\" class=\"data row7 col6\" >0</td>\n",
       "      <td id=\"T_71ba5_row7_col7\" class=\"data row7 col7\" >0</td>\n",
       "      <td id=\"T_71ba5_row7_col8\" class=\"data row7 col8\" >0</td>\n",
       "      <td id=\"T_71ba5_row7_col9\" class=\"data row7 col9\" >255</td>\n",
       "      <td id=\"T_71ba5_row7_col10\" class=\"data row7 col10\" >255</td>\n",
       "      <td id=\"T_71ba5_row7_col11\" class=\"data row7 col11\" >255</td>\n",
       "      <td id=\"T_71ba5_row7_col12\" class=\"data row7 col12\" >0</td>\n",
       "      <td id=\"T_71ba5_row7_col13\" class=\"data row7 col13\" >0</td>\n",
       "    </tr>\n",
       "    <tr>\n",
       "      <th id=\"T_71ba5_level0_row8\" class=\"row_heading level0 row8\" >8</th>\n",
       "      <td id=\"T_71ba5_row8_col0\" class=\"data row8 col0\" >0</td>\n",
       "      <td id=\"T_71ba5_row8_col1\" class=\"data row8 col1\" >0</td>\n",
       "      <td id=\"T_71ba5_row8_col2\" class=\"data row8 col2\" >0</td>\n",
       "      <td id=\"T_71ba5_row8_col3\" class=\"data row8 col3\" >0</td>\n",
       "      <td id=\"T_71ba5_row8_col4\" class=\"data row8 col4\" >0</td>\n",
       "      <td id=\"T_71ba5_row8_col5\" class=\"data row8 col5\" >0</td>\n",
       "      <td id=\"T_71ba5_row8_col6\" class=\"data row8 col6\" >0</td>\n",
       "      <td id=\"T_71ba5_row8_col7\" class=\"data row8 col7\" >0</td>\n",
       "      <td id=\"T_71ba5_row8_col8\" class=\"data row8 col8\" >191</td>\n",
       "      <td id=\"T_71ba5_row8_col9\" class=\"data row8 col9\" >255</td>\n",
       "      <td id=\"T_71ba5_row8_col10\" class=\"data row8 col10\" >255</td>\n",
       "      <td id=\"T_71ba5_row8_col11\" class=\"data row8 col11\" >191</td>\n",
       "      <td id=\"T_71ba5_row8_col12\" class=\"data row8 col12\" >0</td>\n",
       "      <td id=\"T_71ba5_row8_col13\" class=\"data row8 col13\" >0</td>\n",
       "    </tr>\n",
       "    <tr>\n",
       "      <th id=\"T_71ba5_level0_row9\" class=\"row_heading level0 row9\" >9</th>\n",
       "      <td id=\"T_71ba5_row9_col0\" class=\"data row9 col0\" >0</td>\n",
       "      <td id=\"T_71ba5_row9_col1\" class=\"data row9 col1\" >0</td>\n",
       "      <td id=\"T_71ba5_row9_col2\" class=\"data row9 col2\" >0</td>\n",
       "      <td id=\"T_71ba5_row9_col3\" class=\"data row9 col3\" >0</td>\n",
       "      <td id=\"T_71ba5_row9_col4\" class=\"data row9 col4\" >0</td>\n",
       "      <td id=\"T_71ba5_row9_col5\" class=\"data row9 col5\" >0</td>\n",
       "      <td id=\"T_71ba5_row9_col6\" class=\"data row9 col6\" >0</td>\n",
       "      <td id=\"T_71ba5_row9_col7\" class=\"data row9 col7\" >0</td>\n",
       "      <td id=\"T_71ba5_row9_col8\" class=\"data row9 col8\" >255</td>\n",
       "      <td id=\"T_71ba5_row9_col9\" class=\"data row9 col9\" >255</td>\n",
       "      <td id=\"T_71ba5_row9_col10\" class=\"data row9 col10\" >255</td>\n",
       "      <td id=\"T_71ba5_row9_col11\" class=\"data row9 col11\" >0</td>\n",
       "      <td id=\"T_71ba5_row9_col12\" class=\"data row9 col12\" >0</td>\n",
       "      <td id=\"T_71ba5_row9_col13\" class=\"data row9 col13\" >0</td>\n",
       "    </tr>\n",
       "    <tr>\n",
       "      <th id=\"T_71ba5_level0_row10\" class=\"row_heading level0 row10\" >10</th>\n",
       "      <td id=\"T_71ba5_row10_col0\" class=\"data row10 col0\" >0</td>\n",
       "      <td id=\"T_71ba5_row10_col1\" class=\"data row10 col1\" >0</td>\n",
       "      <td id=\"T_71ba5_row10_col2\" class=\"data row10 col2\" >0</td>\n",
       "      <td id=\"T_71ba5_row10_col3\" class=\"data row10 col3\" >0</td>\n",
       "      <td id=\"T_71ba5_row10_col4\" class=\"data row10 col4\" >0</td>\n",
       "      <td id=\"T_71ba5_row10_col5\" class=\"data row10 col5\" >0</td>\n",
       "      <td id=\"T_71ba5_row10_col6\" class=\"data row10 col6\" >64</td>\n",
       "      <td id=\"T_71ba5_row10_col7\" class=\"data row10 col7\" >191</td>\n",
       "      <td id=\"T_71ba5_row10_col8\" class=\"data row10 col8\" >255</td>\n",
       "      <td id=\"T_71ba5_row10_col9\" class=\"data row10 col9\" >255</td>\n",
       "      <td id=\"T_71ba5_row10_col10\" class=\"data row10 col10\" >191</td>\n",
       "      <td id=\"T_71ba5_row10_col11\" class=\"data row10 col11\" >0</td>\n",
       "      <td id=\"T_71ba5_row10_col12\" class=\"data row10 col12\" >0</td>\n",
       "      <td id=\"T_71ba5_row10_col13\" class=\"data row10 col13\" >0</td>\n",
       "    </tr>\n",
       "    <tr>\n",
       "      <th id=\"T_71ba5_level0_row11\" class=\"row_heading level0 row11\" >11</th>\n",
       "      <td id=\"T_71ba5_row11_col0\" class=\"data row11 col0\" >0</td>\n",
       "      <td id=\"T_71ba5_row11_col1\" class=\"data row11 col1\" >0</td>\n",
       "      <td id=\"T_71ba5_row11_col2\" class=\"data row11 col2\" >0</td>\n",
       "      <td id=\"T_71ba5_row11_col3\" class=\"data row11 col3\" >0</td>\n",
       "      <td id=\"T_71ba5_row11_col4\" class=\"data row11 col4\" >0</td>\n",
       "      <td id=\"T_71ba5_row11_col5\" class=\"data row11 col5\" >0</td>\n",
       "      <td id=\"T_71ba5_row11_col6\" class=\"data row11 col6\" >191</td>\n",
       "      <td id=\"T_71ba5_row11_col7\" class=\"data row11 col7\" >255</td>\n",
       "      <td id=\"T_71ba5_row11_col8\" class=\"data row11 col8\" >255</td>\n",
       "      <td id=\"T_71ba5_row11_col9\" class=\"data row11 col9\" >255</td>\n",
       "      <td id=\"T_71ba5_row11_col10\" class=\"data row11 col10\" >0</td>\n",
       "      <td id=\"T_71ba5_row11_col11\" class=\"data row11 col11\" >0</td>\n",
       "      <td id=\"T_71ba5_row11_col12\" class=\"data row11 col12\" >0</td>\n",
       "      <td id=\"T_71ba5_row11_col13\" class=\"data row11 col13\" >0</td>\n",
       "    </tr>\n",
       "    <tr>\n",
       "      <th id=\"T_71ba5_level0_row12\" class=\"row_heading level0 row12\" >12</th>\n",
       "      <td id=\"T_71ba5_row12_col0\" class=\"data row12 col0\" >0</td>\n",
       "      <td id=\"T_71ba5_row12_col1\" class=\"data row12 col1\" >0</td>\n",
       "      <td id=\"T_71ba5_row12_col2\" class=\"data row12 col2\" >0</td>\n",
       "      <td id=\"T_71ba5_row12_col3\" class=\"data row12 col3\" >64</td>\n",
       "      <td id=\"T_71ba5_row12_col4\" class=\"data row12 col4\" >128</td>\n",
       "      <td id=\"T_71ba5_row12_col5\" class=\"data row12 col5\" >255</td>\n",
       "      <td id=\"T_71ba5_row12_col6\" class=\"data row12 col6\" >255</td>\n",
       "      <td id=\"T_71ba5_row12_col7\" class=\"data row12 col7\" >255</td>\n",
       "      <td id=\"T_71ba5_row12_col8\" class=\"data row12 col8\" >255</td>\n",
       "      <td id=\"T_71ba5_row12_col9\" class=\"data row12 col9\" >64</td>\n",
       "      <td id=\"T_71ba5_row12_col10\" class=\"data row12 col10\" >0</td>\n",
       "      <td id=\"T_71ba5_row12_col11\" class=\"data row12 col11\" >0</td>\n",
       "      <td id=\"T_71ba5_row12_col12\" class=\"data row12 col12\" >0</td>\n",
       "      <td id=\"T_71ba5_row12_col13\" class=\"data row12 col13\" >0</td>\n",
       "    </tr>\n",
       "    <tr>\n",
       "      <th id=\"T_71ba5_level0_row13\" class=\"row_heading level0 row13\" >13</th>\n",
       "      <td id=\"T_71ba5_row13_col0\" class=\"data row13 col0\" >64</td>\n",
       "      <td id=\"T_71ba5_row13_col1\" class=\"data row13 col1\" >128</td>\n",
       "      <td id=\"T_71ba5_row13_col2\" class=\"data row13 col2\" >255</td>\n",
       "      <td id=\"T_71ba5_row13_col3\" class=\"data row13 col3\" >255</td>\n",
       "      <td id=\"T_71ba5_row13_col4\" class=\"data row13 col4\" >255</td>\n",
       "      <td id=\"T_71ba5_row13_col5\" class=\"data row13 col5\" >255</td>\n",
       "      <td id=\"T_71ba5_row13_col6\" class=\"data row13 col6\" >255</td>\n",
       "      <td id=\"T_71ba5_row13_col7\" class=\"data row13 col7\" >255</td>\n",
       "      <td id=\"T_71ba5_row13_col8\" class=\"data row13 col8\" >255</td>\n",
       "      <td id=\"T_71ba5_row13_col9\" class=\"data row13 col9\" >0</td>\n",
       "      <td id=\"T_71ba5_row13_col10\" class=\"data row13 col10\" >0</td>\n",
       "      <td id=\"T_71ba5_row13_col11\" class=\"data row13 col11\" >0</td>\n",
       "      <td id=\"T_71ba5_row13_col12\" class=\"data row13 col12\" >0</td>\n",
       "      <td id=\"T_71ba5_row13_col13\" class=\"data row13 col13\" >0</td>\n",
       "    </tr>\n",
       "    <tr>\n",
       "      <th id=\"T_71ba5_level0_row14\" class=\"row_heading level0 row14\" >14</th>\n",
       "      <td id=\"T_71ba5_row14_col0\" class=\"data row14 col0\" >255</td>\n",
       "      <td id=\"T_71ba5_row14_col1\" class=\"data row14 col1\" >255</td>\n",
       "      <td id=\"T_71ba5_row14_col2\" class=\"data row14 col2\" >255</td>\n",
       "      <td id=\"T_71ba5_row14_col3\" class=\"data row14 col3\" >255</td>\n",
       "      <td id=\"T_71ba5_row14_col4\" class=\"data row14 col4\" >255</td>\n",
       "      <td id=\"T_71ba5_row14_col5\" class=\"data row14 col5\" >255</td>\n",
       "      <td id=\"T_71ba5_row14_col6\" class=\"data row14 col6\" >255</td>\n",
       "      <td id=\"T_71ba5_row14_col7\" class=\"data row14 col7\" >255</td>\n",
       "      <td id=\"T_71ba5_row14_col8\" class=\"data row14 col8\" >255</td>\n",
       "      <td id=\"T_71ba5_row14_col9\" class=\"data row14 col9\" >191</td>\n",
       "      <td id=\"T_71ba5_row14_col10\" class=\"data row14 col10\" >64</td>\n",
       "      <td id=\"T_71ba5_row14_col11\" class=\"data row14 col11\" >0</td>\n",
       "      <td id=\"T_71ba5_row14_col12\" class=\"data row14 col12\" >0</td>\n",
       "      <td id=\"T_71ba5_row14_col13\" class=\"data row14 col13\" >0</td>\n",
       "    </tr>\n",
       "    <tr>\n",
       "      <th id=\"T_71ba5_level0_row15\" class=\"row_heading level0 row15\" >15</th>\n",
       "      <td id=\"T_71ba5_row15_col0\" class=\"data row15 col0\" >255</td>\n",
       "      <td id=\"T_71ba5_row15_col1\" class=\"data row15 col1\" >255</td>\n",
       "      <td id=\"T_71ba5_row15_col2\" class=\"data row15 col2\" >255</td>\n",
       "      <td id=\"T_71ba5_row15_col3\" class=\"data row15 col3\" >255</td>\n",
       "      <td id=\"T_71ba5_row15_col4\" class=\"data row15 col4\" >255</td>\n",
       "      <td id=\"T_71ba5_row15_col5\" class=\"data row15 col5\" >255</td>\n",
       "      <td id=\"T_71ba5_row15_col6\" class=\"data row15 col6\" >191</td>\n",
       "      <td id=\"T_71ba5_row15_col7\" class=\"data row15 col7\" >191</td>\n",
       "      <td id=\"T_71ba5_row15_col8\" class=\"data row15 col8\" >255</td>\n",
       "      <td id=\"T_71ba5_row15_col9\" class=\"data row15 col9\" >255</td>\n",
       "      <td id=\"T_71ba5_row15_col10\" class=\"data row15 col10\" >255</td>\n",
       "      <td id=\"T_71ba5_row15_col11\" class=\"data row15 col11\" >255</td>\n",
       "      <td id=\"T_71ba5_row15_col12\" class=\"data row15 col12\" >191</td>\n",
       "      <td id=\"T_71ba5_row15_col13\" class=\"data row15 col13\" >64</td>\n",
       "    </tr>\n",
       "    <tr>\n",
       "      <th id=\"T_71ba5_level0_row16\" class=\"row_heading level0 row16\" >16</th>\n",
       "      <td id=\"T_71ba5_row16_col0\" class=\"data row16 col0\" >255</td>\n",
       "      <td id=\"T_71ba5_row16_col1\" class=\"data row16 col1\" >255</td>\n",
       "      <td id=\"T_71ba5_row16_col2\" class=\"data row16 col2\" >255</td>\n",
       "      <td id=\"T_71ba5_row16_col3\" class=\"data row16 col3\" >255</td>\n",
       "      <td id=\"T_71ba5_row16_col4\" class=\"data row16 col4\" >255</td>\n",
       "      <td id=\"T_71ba5_row16_col5\" class=\"data row16 col5\" >64</td>\n",
       "      <td id=\"T_71ba5_row16_col6\" class=\"data row16 col6\" >0</td>\n",
       "      <td id=\"T_71ba5_row16_col7\" class=\"data row16 col7\" >0</td>\n",
       "      <td id=\"T_71ba5_row16_col8\" class=\"data row16 col8\" >0</td>\n",
       "      <td id=\"T_71ba5_row16_col9\" class=\"data row16 col9\" >191</td>\n",
       "      <td id=\"T_71ba5_row16_col10\" class=\"data row16 col10\" >255</td>\n",
       "      <td id=\"T_71ba5_row16_col11\" class=\"data row16 col11\" >255</td>\n",
       "      <td id=\"T_71ba5_row16_col12\" class=\"data row16 col12\" >191</td>\n",
       "      <td id=\"T_71ba5_row16_col13\" class=\"data row16 col13\" >128</td>\n",
       "    </tr>\n",
       "  </tbody>\n",
       "</table>\n"
      ],
      "text/plain": [
       "<pandas.io.formats.style.Styler at 0x72178fde5b20>"
      ]
     },
     "execution_count": 7,
     "metadata": {},
     "output_type": "execute_result"
    }
   ],
   "source": [
    "t = tensor(Image.open(twos[0]))\n",
    "tdf = pd.DataFrame(t[3:20,9:23])\n",
    "tdf.style.set_properties(**{'font-size':'6pt'}).background_gradient('Greys')"
   ]
  },
  {
   "cell_type": "markdown",
   "id": "7b541e3c-5131-40b0-9127-231742439dd8",
   "metadata": {},
   "source": [
    "Read Images into Tensor"
   ]
  },
  {
   "cell_type": "code",
   "execution_count": 8,
   "id": "f82356a9-53fd-465a-a662-575ad56bf32c",
   "metadata": {},
   "outputs": [],
   "source": [
    "two_tensors = [tensor(Image.open(two)) for two in twos]\n",
    "five_tensors = [tensor(Image.open(five)) for five in fives]"
   ]
  },
  {
   "cell_type": "code",
   "execution_count": 9,
   "id": "8684598a-522b-4ff5-895b-9d35fb42fe0e",
   "metadata": {},
   "outputs": [
    {
     "name": "stdout",
     "output_type": "stream",
     "text": [
      "torch.Size([5958, 28, 28])\n",
      "torch.Size([5421, 28, 28])\n",
      "Images with '2': 5958\n",
      "Images with '5': 5421\n"
     ]
    }
   ],
   "source": [
    "two_t = torch.stack(two_tensors).float()/255\n",
    "print(two_t.shape)\n",
    "five_t = torch.stack(five_tensors).float()/255\n",
    "print(five_t.shape)\n",
    "\n",
    "print(f\"Images with '2': {two_t.shape[0]}\")\n",
    "print(f\"Images with '5': {five_t.shape[0]}\")"
   ]
  },
  {
   "cell_type": "markdown",
   "id": "ae8c7ac3-0329-4ac6-965b-2304f48c667e",
   "metadata": {},
   "source": [
    "## Baseline: Distance from Mean Image\n",
    "Get Mean 2s and 5s over all Images"
   ]
  },
  {
   "cell_type": "code",
   "execution_count": 10,
   "id": "555a5af2-9418-41da-947e-5fcf740cc48a",
   "metadata": {},
   "outputs": [],
   "source": [
    "mean_two = two_t.mean(0)\n",
    "mean_five = five_t.mean(0)"
   ]
  },
  {
   "cell_type": "code",
   "execution_count": 11,
   "id": "a21cb59b-9070-4c80-afbd-8ac1c84cc454",
   "metadata": {},
   "outputs": [
    {
     "data": {
      "text/plain": [
       "torch.Size([28, 28])"
      ]
     },
     "execution_count": 11,
     "metadata": {},
     "output_type": "execute_result"
    }
   ],
   "source": [
    "#Image.open(mean_two)\n",
    "mean_two.shape\n",
    "mean_five.shape"
   ]
  },
  {
   "cell_type": "code",
   "execution_count": 12,
   "id": "7a9052b7-61ab-4e84-a9b9-3db01ef98695",
   "metadata": {},
   "outputs": [
    {
     "data": {
      "text/plain": [
       "<Axes: >"
      ]
     },
     "execution_count": 12,
     "metadata": {},
     "output_type": "execute_result"
    },
    {
     "data": {
      "image/png": "[encoded data removed]",
      "text/plain": [
       "<Figure size 100x100 with 1 Axes>"
      ]
     },
     "metadata": {},
     "output_type": "display_data"
    },
    {
     "data": {
      "image/png": "[encoded data removed]",
      "text/plain": [
       "<Figure size 100x100 with 1 Axes>"
      ]
     },
     "metadata": {},
     "output_type": "display_data"
    }
   ],
   "source": [
    "show_image(mean_two)\n",
    "show_image(mean_five)"
   ]
  },
  {
   "cell_type": "markdown",
   "id": "f8b86c0e-78a3-4777-a47b-f7091349b45a",
   "metadata": {},
   "source": [
    "Calculate distance"
   ]
  },
  {
   "cell_type": "code",
   "execution_count": 13,
   "id": "762a5b9c-61f4-41c6-9df9-b71e184fd536",
   "metadata": {},
   "outputs": [],
   "source": [
    "def mse(im, mean):\n",
    "    return ((im - mean)**2).mean((-1,-2)).sqrt()\n",
    "\n",
    "#Equivalent to     \n",
    "#F.mse_loss(two_t[1], mean_five).sqrt()"
   ]
  },
  {
   "cell_type": "code",
   "execution_count": 14,
   "id": "735a21b8-39e3-4bcc-8da7-1f177bad111b",
   "metadata": {},
   "outputs": [
    {
     "data": {
      "text/html": [
       "<div>\n",
       "<style scoped>\n",
       "    .dataframe tbody tr th:only-of-type {\n",
       "        vertical-align: middle;\n",
       "    }\n",
       "\n",
       "    .dataframe tbody tr th {\n",
       "        vertical-align: top;\n",
       "    }\n",
       "\n",
       "    .dataframe thead th {\n",
       "        text-align: right;\n",
       "    }\n",
       "</style>\n",
       "<table border=\"1\" class=\"dataframe\">\n",
       "  <thead>\n",
       "    <tr style=\"text-align: right;\">\n",
       "      <th></th>\n",
       "      <th>mse_2</th>\n",
       "      <th>mse_5</th>\n",
       "    </tr>\n",
       "  </thead>\n",
       "  <tbody>\n",
       "    <tr>\n",
       "      <th>2</th>\n",
       "      <td>0.245812</td>\n",
       "      <td>0.25939</td>\n",
       "    </tr>\n",
       "    <tr>\n",
       "      <th>5</th>\n",
       "      <td>0.297486</td>\n",
       "      <td>0.244533</td>\n",
       "    </tr>\n",
       "  </tbody>\n",
       "</table>\n",
       "</div>"
      ],
      "text/plain": [
       "      mse_2     mse_5\n",
       "2  0.245812   0.25939\n",
       "5  0.297486  0.244533"
      ]
     },
     "execution_count": 14,
     "metadata": {},
     "output_type": "execute_result"
    }
   ],
   "source": [
    "df = pd.DataFrame(index=[2,5],columns=['mse_2','mse_5'])\n",
    "\n",
    "index = 2\n",
    "df.iat[0,0] = float(mse(two_t[index],mean_two))\n",
    "df.iat[0,1] = float(mse(two_t[index],mean_five))\n",
    "df.iat[1,0] = float(mse(five_t[index],mean_two))\n",
    "df.iat[1,1] = float(mse(five_t[index],mean_five))\n",
    "\n",
    "df"
   ]
  },
  {
   "cell_type": "markdown",
   "id": "140bf6eb-fe85-457a-ac3e-39b872a99b9d",
   "metadata": {},
   "source": [
    "Baseline is working!\n",
    "Numbers have lower loss for their corresponding mean numbers"
   ]
  },
  {
   "cell_type": "markdown",
   "id": "240a27c5-f326-4ee1-ba9b-9cc3f29f09ca",
   "metadata": {},
   "source": [
    "Now: Measure Accuracy for each Number"
   ]
  },
  {
   "cell_type": "code",
   "execution_count": 15,
   "id": "a6b3dbd2-a147-4316-80fa-4eac0e5a1952",
   "metadata": {},
   "outputs": [],
   "source": [
    "def pred(t):\n",
    "    two_score = F.mse_loss(t, mean_two).sqrt()\n",
    "    five_score = F.mse_loss(t, mean_five).sqrt()\n",
    "    scores = [two_score,five_score]\n",
    "    return ['2','5'][scores.index(min(scores))]"
   ]
  },
  {
   "cell_type": "code",
   "execution_count": 16,
   "id": "2f723386-1754-460c-a976-447c6848a25c",
   "metadata": {},
   "outputs": [],
   "source": [
    "mse_valid_two = mse(two_t,mean_two)\n",
    "mse_invalid_two = mse(two_t,mean_five)\n",
    "\n",
    "mse_invalid_five = mse(five_t,mean_two)\n",
    "mse_valid_five = mse(five_t,mean_five)"
   ]
  },
  {
   "cell_type": "markdown",
   "id": "9bf44e90-440d-4ef3-a47c-1b7ac6bbf1da",
   "metadata": {},
   "source": [
    "Get Accuracy of Baseline"
   ]
  },
  {
   "cell_type": "code",
   "execution_count": 17,
   "id": "43ffa23d-7ff8-4475-8833-c8d97ebb88ce",
   "metadata": {},
   "outputs": [
    {
     "name": "stdout",
     "output_type": "stream",
     "text": [
      "Accuracy '2': 0.9483\n",
      "Accuracy '5': 0.9629\n",
      "Can a neural network do better?\n"
     ]
    }
   ],
   "source": [
    "first_is_lower = lambda a, b: a < b\n",
    "\n",
    "twos_acc = first_is_lower(mse_valid_two,mse_invalid_two).float().mean()\n",
    "fives_acc = first_is_lower(mse_valid_five,mse_invalid_five).float().mean()\n",
    "\n",
    "print(f\"Accuracy '2': {twos_acc:.4f}\")\n",
    "print(f\"Accuracy '5': {fives_acc:.4f}\")\n",
    "\n",
    "print(f\"Can a neural network do better?\")"
   ]
  },
  {
   "cell_type": "markdown",
   "id": "5167983d-4452-4918-83f0-1b956d60e883",
   "metadata": {},
   "source": [
    "Show wrongly classified '2's"
   ]
  },
  {
   "cell_type": "code",
   "execution_count": 18,
   "id": "2fb0ec63-dbbf-4c0b-9f63-82d5293f9cdf",
   "metadata": {},
   "outputs": [
    {
     "data": {
      "text/plain": [
       "<Axes: >"
      ]
     },
     "execution_count": 18,
     "metadata": {},
     "output_type": "execute_result"
    },
    {
     "data": {
      "image/png": "[encoded data removed]",
      "text/plain": [
       "<Figure size 100x100 with 1 Axes>"
      ]
     },
     "metadata": {},
     "output_type": "display_data"
    }
   ],
   "source": [
    "twos_res = first_is_lower(mse_valid_two,mse_invalid_two).float().tolist()\n",
    "wrong_ind = [index for index, x in enumerate(twos_res) if x == 0.0]\n",
    "show_image(two_t[wrong_ind[1]])"
   ]
  },
  {
   "cell_type": "markdown",
   "id": "9277c54b-44e3-41c5-85cd-5542bf9ceb1e",
   "metadata": {},
   "source": [
    "## Neural Network Classifier"
   ]
  },
  {
   "cell_type": "markdown",
   "id": "38560a22-d806-4027-9363-fbfe8b5bfb9f",
   "metadata": {},
   "source": [
    "Create DataLoader for Input Data"
   ]
  },
  {
   "cell_type": "markdown",
   "id": "3b6773c0-fee6-4485-9044-1890510c235b",
   "metadata": {},
   "source": [
    "Transform 2D-Images to 1D-Tensor(Vector)\n",
    "(_Note_) -1 makes first axis _as big as necessary_ to fit the data\n",
    "\n",
    "Label for one dataset: ```[x , y] x:= \"2\", y:=\"5\"``` \\\n",
    "e.g. ```[True,False] is a label for 2```"
   ]
  },
  {
   "cell_type": "code",
   "execution_count": 25,
   "id": "e44e4c99-53e0-42c0-ada3-be99c934741c",
   "metadata": {},
   "outputs": [],
   "source": [
    "# Combine training data\n",
    "train_x = torch.cat([two_t,five_t]).view(-1, 28*28)\n",
    "\n",
    "# Add Labels\n",
    "train_y = torch.zeros(train_x.shape[0], 2, dtype=float) \n",
    "train_y[:two_t.shape[0], 0] = 1.0\n",
    "train_y[two_t.shape[0]:, 1] = 1.0\n",
    "\n",
    "dset = list(zip(train_x,train_y))"
   ]
  },
  {
   "cell_type": "markdown",
   "id": "49407ca5-433b-4fe3-9d28-cc832e073ab2",
   "metadata": {},
   "source": [
    "Print image and label from dataset (dset)"
   ]
  },
  {
   "cell_type": "code",
   "execution_count": 29,
   "id": "427f9634-d79b-4155-9c78-a29c92663acf",
   "metadata": {},
   "outputs": [
    {
     "name": "stdout",
     "output_type": "stream",
     "text": [
      "image index:\t 5958\n",
      "label:\t\t tensor([0., 1.], dtype=torch.float64)\n"
     ]
    },
    {
     "data": {
      "image/png": "[encoded data removed]",
      "text/plain": [
       "<Figure size 100x100 with 1 Axes>"
      ]
     },
     "metadata": {},
     "output_type": "display_data"
    }
   ],
   "source": [
    "index = two_t.shape[0]\n",
    "ig = dset[0][0]\n",
    "label = dset[index][1]\n",
    "show_image(dset[index][0].view(28,28))\n",
    "print(f\"image index:\\t {index}\")\n",
    "print(f\"label:\\t\\t {label}\")"
   ]
  },
  {
   "cell_type": "markdown",
   "id": "f14da3b9-a494-4c49-9b97-86d2b9117ab1",
   "metadata": {},
   "source": [
    "Save in DataLoader"
   ]
  },
  {
   "cell_type": "code",
   "execution_count": 30,
   "id": "17ff9ed1-95bf-4bad-9906-4207b92802c1",
   "metadata": {},
   "outputs": [],
   "source": [
    "dl = DataLoader(dset, batch_size=5, shuffle=True)"
   ]
  },
  {
   "cell_type": "markdown",
   "id": "c62785e2-6b96-47aa-870f-7afecf06698c",
   "metadata": {},
   "source": [
    "Minibatch of size 5"
   ]
  },
  {
   "cell_type": "code",
   "execution_count": 31,
   "id": "7cdcb6b0-dbc0-4f9d-93ac-fc46a2579ef3",
   "metadata": {},
   "outputs": [
    {
     "data": {
      "text/plain": [
       "(tensor([[0., 0., 0.,  ..., 0., 0., 0.],\n",
       "         [0., 0., 0.,  ..., 0., 0., 0.],\n",
       "         [0., 0., 0.,  ..., 0., 0., 0.],\n",
       "         [0., 0., 0.,  ..., 0., 0., 0.],\n",
       "         [0., 0., 0.,  ..., 0., 0., 0.]]),\n",
       " tensor([[0., 1.],\n",
       "         [1., 0.],\n",
       "         [0., 1.],\n",
       "         [0., 1.],\n",
       "         [0., 1.]], dtype=torch.float64))"
      ]
     },
     "execution_count": 31,
     "metadata": {},
     "output_type": "execute_result"
    }
   ],
   "source": [
    "item = next(iter(dl))\n",
    "item"
   ]
  },
  {
   "cell_type": "code",
   "execution_count": 32,
   "id": "662176c6-44ec-432b-8327-82e9a326aadc",
   "metadata": {},
   "outputs": [
    {
     "data": {
      "text/html": [
       "\n",
       "<style>\n",
       "    /* Turns off some styling */\n",
       "    progress {\n",
       "        /* gets rid of default border in Firefox and Opera. */\n",
       "        border: none;\n",
       "        /* Needs to be in here for Safari polyfill so background images work as expected. */\n",
       "        background-size: auto;\n",
       "    }\n",
       "    progress:not([value]), progress:not([value])::-webkit-progress-bar {\n",
       "        background: repeating-linear-gradient(45deg, #7e7e7e, #7e7e7e 10px, #5c5c5c 10px, #5c5c5c 20px);\n",
       "    }\n",
       "    .progress-bar-interrupted, .progress-bar-interrupted::-webkit-progress-bar {\n",
       "        background: #F44336;\n",
       "    }\n",
       "</style>\n"
      ],
      "text/plain": [
       "<IPython.core.display.HTML object>"
      ]
     },
     "metadata": {},
     "output_type": "display_data"
    },
    {
     "data": {
      "text/html": [
       "\n",
       "    <div>\n",
       "      <progress value='0' class='' max='5' style='width:300px; height:20px; vertical-align: middle;'></progress>\n",
       "      0.00% [0/5 00:00&lt;?]\n",
       "    </div>\n",
       "    \n",
       "<table border=\"1\" class=\"dataframe\">\n",
       "  <thead>\n",
       "    <tr style=\"text-align: left;\">\n",
       "      <th>epoch</th>\n",
       "      <th>train_loss</th>\n",
       "      <th>valid_loss</th>\n",
       "      <th>accuracy</th>\n",
       "      <th>time</th>\n",
       "    </tr>\n",
       "  </thead>\n",
       "  <tbody>\n",
       "  </tbody>\n",
       "</table><p>\n",
       "\n",
       "    <div>\n",
       "      <progress value='0' class='' max='2276' style='width:300px; height:20px; vertical-align: middle;'></progress>\n",
       "      0.00% [0/2276 00:00&lt;?]\n",
       "    </div>\n",
       "    "
      ],
      "text/plain": [
       "<IPython.core.display.HTML object>"
      ]
     },
     "metadata": {},
     "output_type": "display_data"
    },
    {
     "ename": "RuntimeError",
     "evalue": "Exception occured in `Recorder` when calling event `after_batch`:\n\texpected dtype double for `end` but got dtype float",
     "output_type": "error",
     "traceback": [
      "\u001b[0;31m---------------------------------------------------------------------------\u001b[0m",
      "\u001b[0;31mRuntimeError\u001b[0m                              Traceback (most recent call last)",
      "Cell \u001b[0;32mIn[32], line 9\u001b[0m\n\u001b[1;32m      7\u001b[0m dls \u001b[38;5;241m=\u001b[39m DataLoaders(dl)\n\u001b[1;32m      8\u001b[0m learn \u001b[38;5;241m=\u001b[39m Learner(dls, simple_net, opt_func\u001b[38;5;241m=\u001b[39mSGD, loss_func\u001b[38;5;241m=\u001b[39mF\u001b[38;5;241m.\u001b[39mcross_entropy, metrics\u001b[38;5;241m=\u001b[39maccuracy)\n\u001b[0;32m----> 9\u001b[0m \u001b[43mlearn\u001b[49m\u001b[38;5;241;43m.\u001b[39;49m\u001b[43mfit\u001b[49m\u001b[43m(\u001b[49m\u001b[38;5;241;43m5\u001b[39;49m\u001b[43m,\u001b[49m\u001b[43mlr\u001b[49m\u001b[38;5;241;43m=\u001b[39;49m\u001b[38;5;241;43m0.01\u001b[39;49m\u001b[43m)\u001b[49m\n\u001b[1;32m     12\u001b[0m \u001b[38;5;66;03m#learn = vision_learner(dl, resnet18, pretrained=False, loss_func=F.mse_loss, metrics=accuracy)\u001b[39;00m\n\u001b[1;32m     13\u001b[0m \u001b[38;5;66;03m#doc(F.mse_loss)\u001b[39;00m\n",
      "File \u001b[0;32m~/miniforge3/envs/digits/lib/python3.9/site-packages/fastai/learner.py:266\u001b[0m, in \u001b[0;36mLearner.fit\u001b[0;34m(self, n_epoch, lr, wd, cbs, reset_opt, start_epoch)\u001b[0m\n\u001b[1;32m    264\u001b[0m \u001b[38;5;28mself\u001b[39m\u001b[38;5;241m.\u001b[39mopt\u001b[38;5;241m.\u001b[39mset_hypers(lr\u001b[38;5;241m=\u001b[39m\u001b[38;5;28mself\u001b[39m\u001b[38;5;241m.\u001b[39mlr \u001b[38;5;28;01mif\u001b[39;00m lr \u001b[38;5;129;01mis\u001b[39;00m \u001b[38;5;28;01mNone\u001b[39;00m \u001b[38;5;28;01melse\u001b[39;00m lr)\n\u001b[1;32m    265\u001b[0m \u001b[38;5;28mself\u001b[39m\u001b[38;5;241m.\u001b[39mn_epoch \u001b[38;5;241m=\u001b[39m n_epoch\n\u001b[0;32m--> 266\u001b[0m \u001b[38;5;28;43mself\u001b[39;49m\u001b[38;5;241;43m.\u001b[39;49m\u001b[43m_with_events\u001b[49m\u001b[43m(\u001b[49m\u001b[38;5;28;43mself\u001b[39;49m\u001b[38;5;241;43m.\u001b[39;49m\u001b[43m_do_fit\u001b[49m\u001b[43m,\u001b[49m\u001b[43m \u001b[49m\u001b[38;5;124;43m'\u001b[39;49m\u001b[38;5;124;43mfit\u001b[39;49m\u001b[38;5;124;43m'\u001b[39;49m\u001b[43m,\u001b[49m\u001b[43m \u001b[49m\u001b[43mCancelFitException\u001b[49m\u001b[43m,\u001b[49m\u001b[43m \u001b[49m\u001b[38;5;28;43mself\u001b[39;49m\u001b[38;5;241;43m.\u001b[39;49m\u001b[43m_end_cleanup\u001b[49m\u001b[43m)\u001b[49m\n",
      "File \u001b[0;32m~/miniforge3/envs/digits/lib/python3.9/site-packages/fastai/learner.py:201\u001b[0m, in \u001b[0;36mLearner._with_events\u001b[0;34m(self, f, event_type, ex, final)\u001b[0m\n\u001b[1;32m    200\u001b[0m \u001b[38;5;28;01mdef\u001b[39;00m\u001b[38;5;250m \u001b[39m\u001b[38;5;21m_with_events\u001b[39m(\u001b[38;5;28mself\u001b[39m, f, event_type, ex, final\u001b[38;5;241m=\u001b[39mnoop):\n\u001b[0;32m--> 201\u001b[0m     \u001b[38;5;28;01mtry\u001b[39;00m: \u001b[38;5;28mself\u001b[39m(\u001b[38;5;124mf\u001b[39m\u001b[38;5;124m'\u001b[39m\u001b[38;5;124mbefore_\u001b[39m\u001b[38;5;132;01m{\u001b[39;00mevent_type\u001b[38;5;132;01m}\u001b[39;00m\u001b[38;5;124m'\u001b[39m);  \u001b[43mf\u001b[49m\u001b[43m(\u001b[49m\u001b[43m)\u001b[49m\n\u001b[1;32m    202\u001b[0m     \u001b[38;5;28;01mexcept\u001b[39;00m ex: \u001b[38;5;28mself\u001b[39m(\u001b[38;5;124mf\u001b[39m\u001b[38;5;124m'\u001b[39m\u001b[38;5;124mafter_cancel_\u001b[39m\u001b[38;5;132;01m{\u001b[39;00mevent_type\u001b[38;5;132;01m}\u001b[39;00m\u001b[38;5;124m'\u001b[39m)\n\u001b[1;32m    203\u001b[0m     \u001b[38;5;28mself\u001b[39m(\u001b[38;5;124mf\u001b[39m\u001b[38;5;124m'\u001b[39m\u001b[38;5;124mafter_\u001b[39m\u001b[38;5;132;01m{\u001b[39;00mevent_type\u001b[38;5;132;01m}\u001b[39;00m\u001b[38;5;124m'\u001b[39m);  final()\n",
      "File \u001b[0;32m~/miniforge3/envs/digits/lib/python3.9/site-packages/fastai/learner.py:255\u001b[0m, in \u001b[0;36mLearner._do_fit\u001b[0;34m(self)\u001b[0m\n\u001b[1;32m    253\u001b[0m \u001b[38;5;28;01mfor\u001b[39;00m epoch \u001b[38;5;129;01min\u001b[39;00m \u001b[38;5;28mrange\u001b[39m(\u001b[38;5;28mself\u001b[39m\u001b[38;5;241m.\u001b[39mn_epoch):\n\u001b[1;32m    254\u001b[0m     \u001b[38;5;28mself\u001b[39m\u001b[38;5;241m.\u001b[39mepoch\u001b[38;5;241m=\u001b[39mepoch\n\u001b[0;32m--> 255\u001b[0m     \u001b[38;5;28;43mself\u001b[39;49m\u001b[38;5;241;43m.\u001b[39;49m\u001b[43m_with_events\u001b[49m\u001b[43m(\u001b[49m\u001b[38;5;28;43mself\u001b[39;49m\u001b[38;5;241;43m.\u001b[39;49m\u001b[43m_do_epoch\u001b[49m\u001b[43m,\u001b[49m\u001b[43m \u001b[49m\u001b[38;5;124;43m'\u001b[39;49m\u001b[38;5;124;43mepoch\u001b[39;49m\u001b[38;5;124;43m'\u001b[39;49m\u001b[43m,\u001b[49m\u001b[43m \u001b[49m\u001b[43mCancelEpochException\u001b[49m\u001b[43m)\u001b[49m\n",
      "File \u001b[0;32m~/miniforge3/envs/digits/lib/python3.9/site-packages/fastai/learner.py:201\u001b[0m, in \u001b[0;36mLearner._with_events\u001b[0;34m(self, f, event_type, ex, final)\u001b[0m\n\u001b[1;32m    200\u001b[0m \u001b[38;5;28;01mdef\u001b[39;00m\u001b[38;5;250m \u001b[39m\u001b[38;5;21m_with_events\u001b[39m(\u001b[38;5;28mself\u001b[39m, f, event_type, ex, final\u001b[38;5;241m=\u001b[39mnoop):\n\u001b[0;32m--> 201\u001b[0m     \u001b[38;5;28;01mtry\u001b[39;00m: \u001b[38;5;28mself\u001b[39m(\u001b[38;5;124mf\u001b[39m\u001b[38;5;124m'\u001b[39m\u001b[38;5;124mbefore_\u001b[39m\u001b[38;5;132;01m{\u001b[39;00mevent_type\u001b[38;5;132;01m}\u001b[39;00m\u001b[38;5;124m'\u001b[39m);  \u001b[43mf\u001b[49m\u001b[43m(\u001b[49m\u001b[43m)\u001b[49m\n\u001b[1;32m    202\u001b[0m     \u001b[38;5;28;01mexcept\u001b[39;00m ex: \u001b[38;5;28mself\u001b[39m(\u001b[38;5;124mf\u001b[39m\u001b[38;5;124m'\u001b[39m\u001b[38;5;124mafter_cancel_\u001b[39m\u001b[38;5;132;01m{\u001b[39;00mevent_type\u001b[38;5;132;01m}\u001b[39;00m\u001b[38;5;124m'\u001b[39m)\n\u001b[1;32m    203\u001b[0m     \u001b[38;5;28mself\u001b[39m(\u001b[38;5;124mf\u001b[39m\u001b[38;5;124m'\u001b[39m\u001b[38;5;124mafter_\u001b[39m\u001b[38;5;132;01m{\u001b[39;00mevent_type\u001b[38;5;132;01m}\u001b[39;00m\u001b[38;5;124m'\u001b[39m);  final()\n",
      "File \u001b[0;32m~/miniforge3/envs/digits/lib/python3.9/site-packages/fastai/learner.py:249\u001b[0m, in \u001b[0;36mLearner._do_epoch\u001b[0;34m(self)\u001b[0m\n\u001b[1;32m    248\u001b[0m \u001b[38;5;28;01mdef\u001b[39;00m\u001b[38;5;250m \u001b[39m\u001b[38;5;21m_do_epoch\u001b[39m(\u001b[38;5;28mself\u001b[39m):\n\u001b[0;32m--> 249\u001b[0m     \u001b[38;5;28;43mself\u001b[39;49m\u001b[38;5;241;43m.\u001b[39;49m\u001b[43m_do_epoch_train\u001b[49m\u001b[43m(\u001b[49m\u001b[43m)\u001b[49m\n\u001b[1;32m    250\u001b[0m     \u001b[38;5;28mself\u001b[39m\u001b[38;5;241m.\u001b[39m_do_epoch_validate()\n",
      "File \u001b[0;32m~/miniforge3/envs/digits/lib/python3.9/site-packages/fastai/learner.py:241\u001b[0m, in \u001b[0;36mLearner._do_epoch_train\u001b[0;34m(self)\u001b[0m\n\u001b[1;32m    239\u001b[0m \u001b[38;5;28;01mdef\u001b[39;00m\u001b[38;5;250m \u001b[39m\u001b[38;5;21m_do_epoch_train\u001b[39m(\u001b[38;5;28mself\u001b[39m):\n\u001b[1;32m    240\u001b[0m     \u001b[38;5;28mself\u001b[39m\u001b[38;5;241m.\u001b[39mdl \u001b[38;5;241m=\u001b[39m \u001b[38;5;28mself\u001b[39m\u001b[38;5;241m.\u001b[39mdls\u001b[38;5;241m.\u001b[39mtrain\n\u001b[0;32m--> 241\u001b[0m     \u001b[38;5;28;43mself\u001b[39;49m\u001b[38;5;241;43m.\u001b[39;49m\u001b[43m_with_events\u001b[49m\u001b[43m(\u001b[49m\u001b[38;5;28;43mself\u001b[39;49m\u001b[38;5;241;43m.\u001b[39;49m\u001b[43mall_batches\u001b[49m\u001b[43m,\u001b[49m\u001b[43m \u001b[49m\u001b[38;5;124;43m'\u001b[39;49m\u001b[38;5;124;43mtrain\u001b[39;49m\u001b[38;5;124;43m'\u001b[39;49m\u001b[43m,\u001b[49m\u001b[43m \u001b[49m\u001b[43mCancelTrainException\u001b[49m\u001b[43m)\u001b[49m\n",
      "File \u001b[0;32m~/miniforge3/envs/digits/lib/python3.9/site-packages/fastai/learner.py:201\u001b[0m, in \u001b[0;36mLearner._with_events\u001b[0;34m(self, f, event_type, ex, final)\u001b[0m\n\u001b[1;32m    200\u001b[0m \u001b[38;5;28;01mdef\u001b[39;00m\u001b[38;5;250m \u001b[39m\u001b[38;5;21m_with_events\u001b[39m(\u001b[38;5;28mself\u001b[39m, f, event_type, ex, final\u001b[38;5;241m=\u001b[39mnoop):\n\u001b[0;32m--> 201\u001b[0m     \u001b[38;5;28;01mtry\u001b[39;00m: \u001b[38;5;28mself\u001b[39m(\u001b[38;5;124mf\u001b[39m\u001b[38;5;124m'\u001b[39m\u001b[38;5;124mbefore_\u001b[39m\u001b[38;5;132;01m{\u001b[39;00mevent_type\u001b[38;5;132;01m}\u001b[39;00m\u001b[38;5;124m'\u001b[39m);  \u001b[43mf\u001b[49m\u001b[43m(\u001b[49m\u001b[43m)\u001b[49m\n\u001b[1;32m    202\u001b[0m     \u001b[38;5;28;01mexcept\u001b[39;00m ex: \u001b[38;5;28mself\u001b[39m(\u001b[38;5;124mf\u001b[39m\u001b[38;5;124m'\u001b[39m\u001b[38;5;124mafter_cancel_\u001b[39m\u001b[38;5;132;01m{\u001b[39;00mevent_type\u001b[38;5;132;01m}\u001b[39;00m\u001b[38;5;124m'\u001b[39m)\n\u001b[1;32m    203\u001b[0m     \u001b[38;5;28mself\u001b[39m(\u001b[38;5;124mf\u001b[39m\u001b[38;5;124m'\u001b[39m\u001b[38;5;124mafter_\u001b[39m\u001b[38;5;132;01m{\u001b[39;00mevent_type\u001b[38;5;132;01m}\u001b[39;00m\u001b[38;5;124m'\u001b[39m);  final()\n",
      "File \u001b[0;32m~/miniforge3/envs/digits/lib/python3.9/site-packages/fastai/learner.py:207\u001b[0m, in \u001b[0;36mLearner.all_batches\u001b[0;34m(self)\u001b[0m\n\u001b[1;32m    205\u001b[0m \u001b[38;5;28;01mdef\u001b[39;00m\u001b[38;5;250m \u001b[39m\u001b[38;5;21mall_batches\u001b[39m(\u001b[38;5;28mself\u001b[39m):\n\u001b[1;32m    206\u001b[0m     \u001b[38;5;28mself\u001b[39m\u001b[38;5;241m.\u001b[39mn_iter \u001b[38;5;241m=\u001b[39m \u001b[38;5;28mlen\u001b[39m(\u001b[38;5;28mself\u001b[39m\u001b[38;5;241m.\u001b[39mdl)\n\u001b[0;32m--> 207\u001b[0m     \u001b[38;5;28;01mfor\u001b[39;00m o \u001b[38;5;129;01min\u001b[39;00m \u001b[38;5;28menumerate\u001b[39m(\u001b[38;5;28mself\u001b[39m\u001b[38;5;241m.\u001b[39mdl): \u001b[38;5;28;43mself\u001b[39;49m\u001b[38;5;241;43m.\u001b[39;49m\u001b[43mone_batch\u001b[49m\u001b[43m(\u001b[49m\u001b[38;5;241;43m*\u001b[39;49m\u001b[43mo\u001b[49m\u001b[43m)\u001b[49m\n",
      "File \u001b[0;32m~/miniforge3/envs/digits/lib/python3.9/site-packages/fastai/learner.py:237\u001b[0m, in \u001b[0;36mLearner.one_batch\u001b[0;34m(self, i, b)\u001b[0m\n\u001b[1;32m    235\u001b[0m b \u001b[38;5;241m=\u001b[39m \u001b[38;5;28mself\u001b[39m\u001b[38;5;241m.\u001b[39m_set_device(b)\n\u001b[1;32m    236\u001b[0m \u001b[38;5;28mself\u001b[39m\u001b[38;5;241m.\u001b[39m_split(b)\n\u001b[0;32m--> 237\u001b[0m \u001b[38;5;28;43mself\u001b[39;49m\u001b[38;5;241;43m.\u001b[39;49m\u001b[43m_with_events\u001b[49m\u001b[43m(\u001b[49m\u001b[38;5;28;43mself\u001b[39;49m\u001b[38;5;241;43m.\u001b[39;49m\u001b[43m_do_one_batch\u001b[49m\u001b[43m,\u001b[49m\u001b[43m \u001b[49m\u001b[38;5;124;43m'\u001b[39;49m\u001b[38;5;124;43mbatch\u001b[39;49m\u001b[38;5;124;43m'\u001b[39;49m\u001b[43m,\u001b[49m\u001b[43m \u001b[49m\u001b[43mCancelBatchException\u001b[49m\u001b[43m)\u001b[49m\n",
      "File \u001b[0;32m~/miniforge3/envs/digits/lib/python3.9/site-packages/fastai/learner.py:203\u001b[0m, in \u001b[0;36mLearner._with_events\u001b[0;34m(self, f, event_type, ex, final)\u001b[0m\n\u001b[1;32m    201\u001b[0m \u001b[38;5;28;01mtry\u001b[39;00m: \u001b[38;5;28mself\u001b[39m(\u001b[38;5;124mf\u001b[39m\u001b[38;5;124m'\u001b[39m\u001b[38;5;124mbefore_\u001b[39m\u001b[38;5;132;01m{\u001b[39;00mevent_type\u001b[38;5;132;01m}\u001b[39;00m\u001b[38;5;124m'\u001b[39m);  f()\n\u001b[1;32m    202\u001b[0m \u001b[38;5;28;01mexcept\u001b[39;00m ex: \u001b[38;5;28mself\u001b[39m(\u001b[38;5;124mf\u001b[39m\u001b[38;5;124m'\u001b[39m\u001b[38;5;124mafter_cancel_\u001b[39m\u001b[38;5;132;01m{\u001b[39;00mevent_type\u001b[38;5;132;01m}\u001b[39;00m\u001b[38;5;124m'\u001b[39m)\n\u001b[0;32m--> 203\u001b[0m \u001b[38;5;28;43mself\u001b[39;49m\u001b[43m(\u001b[49m\u001b[38;5;124;43mf\u001b[39;49m\u001b[38;5;124;43m'\u001b[39;49m\u001b[38;5;124;43mafter_\u001b[39;49m\u001b[38;5;132;43;01m{\u001b[39;49;00m\u001b[43mevent_type\u001b[49m\u001b[38;5;132;43;01m}\u001b[39;49;00m\u001b[38;5;124;43m'\u001b[39;49m\u001b[43m)\u001b[49m;  final()\n",
      "File \u001b[0;32m~/miniforge3/envs/digits/lib/python3.9/site-packages/fastai/learner.py:174\u001b[0m, in \u001b[0;36mLearner.__call__\u001b[0;34m(self, event_name)\u001b[0m\n\u001b[0;32m--> 174\u001b[0m \u001b[38;5;28;01mdef\u001b[39;00m\u001b[38;5;250m \u001b[39m\u001b[38;5;21m__call__\u001b[39m(\u001b[38;5;28mself\u001b[39m, event_name): \u001b[43mL\u001b[49m\u001b[43m(\u001b[49m\u001b[43mevent_name\u001b[49m\u001b[43m)\u001b[49m\u001b[38;5;241;43m.\u001b[39;49m\u001b[43mmap\u001b[49m\u001b[43m(\u001b[49m\u001b[38;5;28;43mself\u001b[39;49m\u001b[38;5;241;43m.\u001b[39;49m\u001b[43m_call_one\u001b[49m\u001b[43m)\u001b[49m\n",
      "File \u001b[0;32m~/miniforge3/envs/digits/lib/python3.9/site-packages/fastcore/foundation.py:159\u001b[0m, in \u001b[0;36mL.map\u001b[0;34m(self, f, *args, **kwargs)\u001b[0m\n\u001b[0;32m--> 159\u001b[0m \u001b[38;5;28;01mdef\u001b[39;00m\u001b[38;5;250m \u001b[39m\u001b[38;5;21mmap\u001b[39m(\u001b[38;5;28mself\u001b[39m, f, \u001b[38;5;241m*\u001b[39margs, \u001b[38;5;241m*\u001b[39m\u001b[38;5;241m*\u001b[39mkwargs): \u001b[38;5;28;01mreturn\u001b[39;00m \u001b[38;5;28mself\u001b[39m\u001b[38;5;241m.\u001b[39m_new(\u001b[43mmap_ex\u001b[49m\u001b[43m(\u001b[49m\u001b[38;5;28;43mself\u001b[39;49m\u001b[43m,\u001b[49m\u001b[43m \u001b[49m\u001b[43mf\u001b[49m\u001b[43m,\u001b[49m\u001b[43m \u001b[49m\u001b[38;5;241;43m*\u001b[39;49m\u001b[43margs\u001b[49m\u001b[43m,\u001b[49m\u001b[43m \u001b[49m\u001b[43mgen\u001b[49m\u001b[38;5;241;43m=\u001b[39;49m\u001b[38;5;28;43;01mFalse\u001b[39;49;00m\u001b[43m,\u001b[49m\u001b[43m \u001b[49m\u001b[38;5;241;43m*\u001b[39;49m\u001b[38;5;241;43m*\u001b[39;49m\u001b[43mkwargs\u001b[49m\u001b[43m)\u001b[49m)\n",
      "File \u001b[0;32m~/miniforge3/envs/digits/lib/python3.9/site-packages/fastcore/basics.py:910\u001b[0m, in \u001b[0;36mmap_ex\u001b[0;34m(iterable, f, gen, *args, **kwargs)\u001b[0m\n\u001b[1;32m    908\u001b[0m res \u001b[38;5;241m=\u001b[39m \u001b[38;5;28mmap\u001b[39m(g, iterable)\n\u001b[1;32m    909\u001b[0m \u001b[38;5;28;01mif\u001b[39;00m gen: \u001b[38;5;28;01mreturn\u001b[39;00m res\n\u001b[0;32m--> 910\u001b[0m \u001b[38;5;28;01mreturn\u001b[39;00m \u001b[38;5;28;43mlist\u001b[39;49m\u001b[43m(\u001b[49m\u001b[43mres\u001b[49m\u001b[43m)\u001b[49m\n",
      "File \u001b[0;32m~/miniforge3/envs/digits/lib/python3.9/site-packages/fastcore/basics.py:895\u001b[0m, in \u001b[0;36mbind.__call__\u001b[0;34m(self, *args, **kwargs)\u001b[0m\n\u001b[1;32m    893\u001b[0m     \u001b[38;5;28;01mif\u001b[39;00m \u001b[38;5;28misinstance\u001b[39m(v,_Arg): kwargs[k] \u001b[38;5;241m=\u001b[39m args\u001b[38;5;241m.\u001b[39mpop(v\u001b[38;5;241m.\u001b[39mi)\n\u001b[1;32m    894\u001b[0m fargs \u001b[38;5;241m=\u001b[39m [args[x\u001b[38;5;241m.\u001b[39mi] \u001b[38;5;28;01mif\u001b[39;00m \u001b[38;5;28misinstance\u001b[39m(x, _Arg) \u001b[38;5;28;01melse\u001b[39;00m x \u001b[38;5;28;01mfor\u001b[39;00m x \u001b[38;5;129;01min\u001b[39;00m \u001b[38;5;28mself\u001b[39m\u001b[38;5;241m.\u001b[39mpargs] \u001b[38;5;241m+\u001b[39m args[\u001b[38;5;28mself\u001b[39m\u001b[38;5;241m.\u001b[39mmaxi\u001b[38;5;241m+\u001b[39m\u001b[38;5;241m1\u001b[39m:]\n\u001b[0;32m--> 895\u001b[0m \u001b[38;5;28;01mreturn\u001b[39;00m \u001b[38;5;28;43mself\u001b[39;49m\u001b[38;5;241;43m.\u001b[39;49m\u001b[43mfunc\u001b[49m\u001b[43m(\u001b[49m\u001b[38;5;241;43m*\u001b[39;49m\u001b[43mfargs\u001b[49m\u001b[43m,\u001b[49m\u001b[43m \u001b[49m\u001b[38;5;241;43m*\u001b[39;49m\u001b[38;5;241;43m*\u001b[39;49m\u001b[43mkwargs\u001b[49m\u001b[43m)\u001b[49m\n",
      "File \u001b[0;32m~/miniforge3/envs/digits/lib/python3.9/site-packages/fastai/learner.py:178\u001b[0m, in \u001b[0;36mLearner._call_one\u001b[0;34m(self, event_name)\u001b[0m\n\u001b[1;32m    176\u001b[0m \u001b[38;5;28;01mdef\u001b[39;00m\u001b[38;5;250m \u001b[39m\u001b[38;5;21m_call_one\u001b[39m(\u001b[38;5;28mself\u001b[39m, event_name):\n\u001b[1;32m    177\u001b[0m     \u001b[38;5;28;01mif\u001b[39;00m \u001b[38;5;129;01mnot\u001b[39;00m \u001b[38;5;28mhasattr\u001b[39m(event, event_name): \u001b[38;5;28;01mraise\u001b[39;00m \u001b[38;5;167;01mException\u001b[39;00m(\u001b[38;5;124mf\u001b[39m\u001b[38;5;124m'\u001b[39m\u001b[38;5;124mmissing \u001b[39m\u001b[38;5;132;01m{\u001b[39;00mevent_name\u001b[38;5;132;01m}\u001b[39;00m\u001b[38;5;124m'\u001b[39m)\n\u001b[0;32m--> 178\u001b[0m     \u001b[38;5;28;01mfor\u001b[39;00m cb \u001b[38;5;129;01min\u001b[39;00m \u001b[38;5;28mself\u001b[39m\u001b[38;5;241m.\u001b[39mcbs\u001b[38;5;241m.\u001b[39msorted(\u001b[38;5;124m'\u001b[39m\u001b[38;5;124morder\u001b[39m\u001b[38;5;124m'\u001b[39m): \u001b[43mcb\u001b[49m\u001b[43m(\u001b[49m\u001b[43mevent_name\u001b[49m\u001b[43m)\u001b[49m\n",
      "File \u001b[0;32m~/miniforge3/envs/digits/lib/python3.9/site-packages/fastai/callback/core.py:64\u001b[0m, in \u001b[0;36mCallback.__call__\u001b[0;34m(self, event_name)\u001b[0m\n\u001b[1;32m     62\u001b[0m     \u001b[38;5;28;01mtry\u001b[39;00m: res \u001b[38;5;241m=\u001b[39m getcallable(\u001b[38;5;28mself\u001b[39m, event_name)()\n\u001b[1;32m     63\u001b[0m     \u001b[38;5;28;01mexcept\u001b[39;00m (CancelBatchException, CancelBackwardException, CancelEpochException, CancelFitException, CancelStepException, CancelTrainException, CancelValidException): \u001b[38;5;28;01mraise\u001b[39;00m\n\u001b[0;32m---> 64\u001b[0m     \u001b[38;5;28;01mexcept\u001b[39;00m \u001b[38;5;167;01mException\u001b[39;00m \u001b[38;5;28;01mas\u001b[39;00m e: \u001b[38;5;28;01mraise\u001b[39;00m modify_exception(e, \u001b[38;5;124mf\u001b[39m\u001b[38;5;124m'\u001b[39m\u001b[38;5;124mException occured in `\u001b[39m\u001b[38;5;132;01m{\u001b[39;00m\u001b[38;5;28mself\u001b[39m\u001b[38;5;241m.\u001b[39m\u001b[38;5;18m__class__\u001b[39m\u001b[38;5;241m.\u001b[39m\u001b[38;5;18m__name__\u001b[39m\u001b[38;5;132;01m}\u001b[39;00m\u001b[38;5;124m` when calling event `\u001b[39m\u001b[38;5;132;01m{\u001b[39;00mevent_name\u001b[38;5;132;01m}\u001b[39;00m\u001b[38;5;124m`:\u001b[39m\u001b[38;5;130;01m\\n\u001b[39;00m\u001b[38;5;130;01m\\t\u001b[39;00m\u001b[38;5;132;01m{\u001b[39;00me\u001b[38;5;241m.\u001b[39margs[\u001b[38;5;241m0\u001b[39m]\u001b[38;5;132;01m}\u001b[39;00m\u001b[38;5;124m'\u001b[39m, replace\u001b[38;5;241m=\u001b[39m\u001b[38;5;28;01mTrue\u001b[39;00m)\n\u001b[1;32m     65\u001b[0m \u001b[38;5;28;01mif\u001b[39;00m event_name\u001b[38;5;241m==\u001b[39m\u001b[38;5;124m'\u001b[39m\u001b[38;5;124mafter_fit\u001b[39m\u001b[38;5;124m'\u001b[39m: \u001b[38;5;28mself\u001b[39m\u001b[38;5;241m.\u001b[39mrun\u001b[38;5;241m=\u001b[39m\u001b[38;5;28;01mTrue\u001b[39;00m \u001b[38;5;66;03m#Reset self.run to True at each end of fit\u001b[39;00m\n\u001b[1;32m     66\u001b[0m \u001b[38;5;28;01mreturn\u001b[39;00m res\n",
      "File \u001b[0;32m~/miniforge3/envs/digits/lib/python3.9/site-packages/fastai/callback/core.py:62\u001b[0m, in \u001b[0;36mCallback.__call__\u001b[0;34m(self, event_name)\u001b[0m\n\u001b[1;32m     60\u001b[0m res \u001b[38;5;241m=\u001b[39m \u001b[38;5;28;01mNone\u001b[39;00m\n\u001b[1;32m     61\u001b[0m \u001b[38;5;28;01mif\u001b[39;00m \u001b[38;5;28mself\u001b[39m\u001b[38;5;241m.\u001b[39mrun \u001b[38;5;129;01mand\u001b[39;00m _run: \n\u001b[0;32m---> 62\u001b[0m     \u001b[38;5;28;01mtry\u001b[39;00m: res \u001b[38;5;241m=\u001b[39m \u001b[43mgetcallable\u001b[49m\u001b[43m(\u001b[49m\u001b[38;5;28;43mself\u001b[39;49m\u001b[43m,\u001b[49m\u001b[43m \u001b[49m\u001b[43mevent_name\u001b[49m\u001b[43m)\u001b[49m\u001b[43m(\u001b[49m\u001b[43m)\u001b[49m\n\u001b[1;32m     63\u001b[0m     \u001b[38;5;28;01mexcept\u001b[39;00m (CancelBatchException, CancelBackwardException, CancelEpochException, CancelFitException, CancelStepException, CancelTrainException, CancelValidException): \u001b[38;5;28;01mraise\u001b[39;00m\n\u001b[1;32m     64\u001b[0m     \u001b[38;5;28;01mexcept\u001b[39;00m \u001b[38;5;167;01mException\u001b[39;00m \u001b[38;5;28;01mas\u001b[39;00m e: \u001b[38;5;28;01mraise\u001b[39;00m modify_exception(e, \u001b[38;5;124mf\u001b[39m\u001b[38;5;124m'\u001b[39m\u001b[38;5;124mException occured in `\u001b[39m\u001b[38;5;132;01m{\u001b[39;00m\u001b[38;5;28mself\u001b[39m\u001b[38;5;241m.\u001b[39m\u001b[38;5;18m__class__\u001b[39m\u001b[38;5;241m.\u001b[39m\u001b[38;5;18m__name__\u001b[39m\u001b[38;5;132;01m}\u001b[39;00m\u001b[38;5;124m` when calling event `\u001b[39m\u001b[38;5;132;01m{\u001b[39;00mevent_name\u001b[38;5;132;01m}\u001b[39;00m\u001b[38;5;124m`:\u001b[39m\u001b[38;5;130;01m\\n\u001b[39;00m\u001b[38;5;130;01m\\t\u001b[39;00m\u001b[38;5;132;01m{\u001b[39;00me\u001b[38;5;241m.\u001b[39margs[\u001b[38;5;241m0\u001b[39m]\u001b[38;5;132;01m}\u001b[39;00m\u001b[38;5;124m'\u001b[39m, replace\u001b[38;5;241m=\u001b[39m\u001b[38;5;28;01mTrue\u001b[39;00m)\n",
      "File \u001b[0;32m~/miniforge3/envs/digits/lib/python3.9/site-packages/fastai/learner.py:562\u001b[0m, in \u001b[0;36mRecorder.after_batch\u001b[0;34m(self)\u001b[0m\n\u001b[1;32m    560\u001b[0m \u001b[38;5;28;01mif\u001b[39;00m \u001b[38;5;28mlen\u001b[39m(\u001b[38;5;28mself\u001b[39m\u001b[38;5;241m.\u001b[39myb) \u001b[38;5;241m==\u001b[39m \u001b[38;5;241m0\u001b[39m: \u001b[38;5;28;01mreturn\u001b[39;00m\n\u001b[1;32m    561\u001b[0m mets \u001b[38;5;241m=\u001b[39m \u001b[38;5;28mself\u001b[39m\u001b[38;5;241m.\u001b[39m_train_mets \u001b[38;5;28;01mif\u001b[39;00m \u001b[38;5;28mself\u001b[39m\u001b[38;5;241m.\u001b[39mtraining \u001b[38;5;28;01melse\u001b[39;00m \u001b[38;5;28mself\u001b[39m\u001b[38;5;241m.\u001b[39m_valid_mets\n\u001b[0;32m--> 562\u001b[0m \u001b[38;5;28;01mfor\u001b[39;00m met \u001b[38;5;129;01min\u001b[39;00m mets: \u001b[43mmet\u001b[49m\u001b[38;5;241;43m.\u001b[39;49m\u001b[43maccumulate\u001b[49m\u001b[43m(\u001b[49m\u001b[38;5;28;43mself\u001b[39;49m\u001b[38;5;241;43m.\u001b[39;49m\u001b[43mlearn\u001b[49m\u001b[43m)\u001b[49m\n\u001b[1;32m    563\u001b[0m \u001b[38;5;28;01mif\u001b[39;00m \u001b[38;5;129;01mnot\u001b[39;00m \u001b[38;5;28mself\u001b[39m\u001b[38;5;241m.\u001b[39mtraining: \u001b[38;5;28;01mreturn\u001b[39;00m\n\u001b[1;32m    564\u001b[0m \u001b[38;5;28mself\u001b[39m\u001b[38;5;241m.\u001b[39mlrs\u001b[38;5;241m.\u001b[39mappend(\u001b[38;5;28mself\u001b[39m\u001b[38;5;241m.\u001b[39mopt\u001b[38;5;241m.\u001b[39mhypers[\u001b[38;5;241m-\u001b[39m\u001b[38;5;241m1\u001b[39m][\u001b[38;5;124m'\u001b[39m\u001b[38;5;124mlr\u001b[39m\u001b[38;5;124m'\u001b[39m])\n",
      "File \u001b[0;32m~/miniforge3/envs/digits/lib/python3.9/site-packages/fastai/learner.py:511\u001b[0m, in \u001b[0;36mAvgSmoothLoss.accumulate\u001b[0;34m(self, learn)\u001b[0m\n\u001b[1;32m    509\u001b[0m \u001b[38;5;28;01mdef\u001b[39;00m\u001b[38;5;250m \u001b[39m\u001b[38;5;21maccumulate\u001b[39m(\u001b[38;5;28mself\u001b[39m, learn):\n\u001b[1;32m    510\u001b[0m     \u001b[38;5;28mself\u001b[39m\u001b[38;5;241m.\u001b[39mcount \u001b[38;5;241m+\u001b[39m\u001b[38;5;241m=\u001b[39m \u001b[38;5;241m1\u001b[39m\n\u001b[0;32m--> 511\u001b[0m     \u001b[38;5;28mself\u001b[39m\u001b[38;5;241m.\u001b[39mval \u001b[38;5;241m=\u001b[39m \u001b[43mtorch\u001b[49m\u001b[38;5;241;43m.\u001b[39;49m\u001b[43mlerp\u001b[49m\u001b[43m(\u001b[49m\u001b[43mto_detach\u001b[49m\u001b[43m(\u001b[49m\u001b[43mlearn\u001b[49m\u001b[38;5;241;43m.\u001b[39;49m\u001b[43mloss\u001b[49m\u001b[38;5;241;43m.\u001b[39;49m\u001b[43mmean\u001b[49m\u001b[43m(\u001b[49m\u001b[43m)\u001b[49m\u001b[43m)\u001b[49m\u001b[43m,\u001b[49m\u001b[43m \u001b[49m\u001b[38;5;28;43mself\u001b[39;49m\u001b[38;5;241;43m.\u001b[39;49m\u001b[43mval\u001b[49m\u001b[43m,\u001b[49m\u001b[43m \u001b[49m\u001b[38;5;28;43mself\u001b[39;49m\u001b[38;5;241;43m.\u001b[39;49m\u001b[43mbeta\u001b[49m\u001b[43m)\u001b[49m\n",
      "\u001b[0;31mRuntimeError\u001b[0m: Exception occured in `Recorder` when calling event `after_batch`:\n\texpected dtype double for `end` but got dtype float"
     ]
    }
   ],
   "source": [
    "simple_net = nn.Sequential(\n",
    "    nn.Linear(28*28,30),\n",
    "    nn.ReLU(),\n",
    "    nn.Linear(30,2)\n",
    ")\n",
    "\n",
    "dls = DataLoaders(dl)\n",
    "learn = Learner(dls, simple_net, opt_func=SGD, loss_func=F.cross_entropy, metrics=accuracy)\n",
    "learn.fit(5,lr=0.01)\n",
    "\n",
    "\n",
    "#learn = vision_learner(dl, resnet18, pretrained=False, loss_func=F.mse_loss, metrics=accuracy)\n",
    "#doc(F.mse_loss)"
   ]
  },
  {
   "cell_type": "code",
   "execution_count": null,
   "id": "3647a8d1-a072-4650-84e4-a089283b015f",
   "metadata": {},
   "outputs": [],
   "source": [
    "index = two_t.shape[0] \n",
    "ig = dset[22][0]\n",
    "label = dset[index][1]"
   ]
  },
  {
   "cell_type": "code",
   "execution_count": null,
   "id": "87c6a982-990e-48d5-9ba3-0b1cb1916be3",
   "metadata": {},
   "outputs": [],
   "source": [
    "label = item[1][3]\n",
    "label"
   ]
  },
  {
   "cell_type": "code",
   "execution_count": null,
   "id": "e9768077-abc1-4623-9f9d-b1d21a2b52f3",
   "metadata": {},
   "outputs": [],
   "source": [
    "pred = torch.tensor([[0.0011, 0.99],[0.80,0.2]])  # Model outputs (logits or probabilities)\n",
    "label = torch.tensor([1,1])  # True label (index 0)\n",
    "\n",
    "# Compute cross-entropy loss\n",
    "loss = F.cross_entropy(pred, label)\n",
    "\n",
    "print(\"Cross-Entropy Loss:\", loss.item())"
   ]
  },
  {
   "cell_type": "code",
   "execution_count": null,
   "id": "114904bb-ed84-487a-89da-8a557ae4a46d",
   "metadata": {},
   "outputs": [],
   "source": [
    "#dls = ImageDataLoaders.from_folder(path)\n",
    "path.ls()"
   ]
  },
  {
   "cell_type": "code",
   "execution_count": null,
   "id": "09d11a0e-efb6-4123-aadb-62b6e77ab1d9",
   "metadata": {},
   "outputs": [],
   "source": []
  }
 ],
 "metadata": {
  "kernelspec": {
   "display_name": "Python 3 (ipykernel)",
   "language": "python",
   "name": "python3"
  },
  "language_info": {
   "codemirror_mode": {
    "name": "ipython",
    "version": 3
   },
   "file_extension": ".py",
   "mimetype": "text/x-python",
   "name": "python",
   "nbconvert_exporter": "python",
   "pygments_lexer": "ipython3",
   "version": "3.9.21"
  }
 },
 "nbformat": 4,
 "nbformat_minor": 5
}
